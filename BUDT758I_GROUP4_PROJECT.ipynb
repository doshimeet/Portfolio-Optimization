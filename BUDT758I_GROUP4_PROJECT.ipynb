{
 "cells": [
  {
   "cell_type": "markdown",
   "id": "11568d87-9484-41be-bf27-f29bbe64f820",
   "metadata": {},
   "source": [
    "### Question 1"
   ]
  },
  {
   "cell_type": "code",
   "execution_count": 1,
   "id": "4c8c4df1-b0e1-4245-bf52-37ea8bc2bbb1",
   "metadata": {
    "tags": []
   },
   "outputs": [],
   "source": [
    "import pandas as pd\n",
    "import numpy as np\n",
    "import matplotlib.pyplot as plt\n",
    "import matplotlib.ticker as mtick\n",
    "from matplotlib.ticker import FuncFormatter\n",
    "aspect_ratio = (12,8)"
   ]
  },
  {
   "cell_type": "code",
   "execution_count": 2,
   "id": "95389466-b7b5-4188-a2d9-5b69629b89d6",
   "metadata": {
    "tags": []
   },
   "outputs": [],
   "source": [
    "# Load data from Prices.csv\n",
    "dfPrices = pd.read_csv('Prices.csv', index_col=0, parse_dates=True)\n"
   ]
  },
  {
   "cell_type": "code",
   "execution_count": 3,
   "id": "511c167d-1522-4c78-b482-406c845bcde7",
   "metadata": {
    "tags": []
   },
   "outputs": [],
   "source": [
    "def calcSummaryStatistics(df, annualization_factor=260, print_Screen=True, percent_format_string=\"{:.2%}\"):\n",
    "    cumReturns = df.cumsum()\n",
    "    underWaterCurve = cumReturns.fillna(0) - np.maximum.accumulate(cumReturns.fillna(0))\n",
    "\n",
    "    summary_stats_new = pd.DataFrame([annualization_factor*df.mean(),\n",
    "                              np.sqrt(annualization_factor)*df.std(),\n",
    "                             df.mean() / df.std() * np.sqrt(annualization_factor),\n",
    "                              underWaterCurve.min(axis=0),\n",
    "                              (df.dropna() >= 0).sum() / df.dropna().shape[0]],\n",
    "                             index=['Average Annual Return', 'Annual Risk', 'Sharpe Ratio', 'maxDD', 'Success Ratio'])\n",
    "    \n",
    "    index_slice = ['Average Annual Return', 'Annual Risk', 'Success Ratio','maxDD']\n",
    "    print_pct_data(df=summary_stats_new,format_spec=percent_format_string,index_slice=index_slice)"
   ]
  },
  {
   "cell_type": "code",
   "execution_count": 4,
   "id": "6bce19b1-ad2d-4f51-975f-551d59c39815",
   "metadata": {
    "tags": []
   },
   "outputs": [],
   "source": [
    "def print_pct_data(df, format_spec=\"{:.4%}\", na_rep=\"NaN\", index_slice=None):\n",
    "    # If index_slice is provided, format only the specified subset\n",
    "    if index_slice is not None:\n",
    "        # Exclude the rows specified in index_slice\n",
    "        unformatted_data = df.drop(index=index_slice)\n",
    "        formatted_data = df.loc[index_slice].style.format(format_spec, na_rep=na_rep)\n",
    "    else:\n",
    "        formatted_data = df.style.format(format_spec, na_rep=na_rep)\n",
    "        unformatted_data = pd.DataFrame()\n",
    "\n",
    "    # Display formatted and unformatted data\n",
    "    display(formatted_data)\n",
    "    display(unformatted_data)\n",
    "    # return formatted_data"
   ]
  },
  {
   "cell_type": "markdown",
   "id": "b5758417-e23a-44a2-aba1-bed84cd1a0e0",
   "metadata": {},
   "source": [
    "### Question 2"
   ]
  },
  {
   "cell_type": "markdown",
   "id": "61c98d7a-0427-4428-bd25-8cfb8379ded7",
   "metadata": {},
   "source": [
    "#### Moving Average Crossover"
   ]
  },
  {
   "cell_type": "code",
   "execution_count": 5,
   "id": "2c95f041-32ad-4cca-b32e-8990f29aa626",
   "metadata": {
    "tags": []
   },
   "outputs": [
    {
     "name": "stdout",
     "output_type": "stream",
     "text": [
      "\n",
      "Optimal values for AAPL:\n",
      "Optimal 'go flat' strategy:\n",
      "Max Sharpe Ratio: 1.0125145882146425\n",
      "Optimal Fast Window: 11\n",
      "Optimal Slow Window: 220\n",
      "\n",
      "Optimal 'go short' strategy:\n",
      "Max Sharpe Ratio: 0.8220107196692458\n",
      "Optimal Fast Window: 53\n",
      "Optimal Slow Window: 55\n",
      "\n",
      "Optimal values for EXC:\n",
      "Optimal 'go flat' strategy:\n",
      "Max Sharpe Ratio: 0.4117807228079647\n",
      "Optimal Fast Window: 23\n",
      "Optimal Slow Window: 50\n",
      "\n",
      "Optimal 'go short' strategy:\n",
      "Max Sharpe Ratio: 0.41841996288691075\n",
      "Optimal Fast Window: 34\n",
      "Optimal Slow Window: 365\n",
      "\n",
      "Optimal values for GE:\n",
      "Optimal 'go flat' strategy:\n",
      "Max Sharpe Ratio: 0.24755182316017493\n",
      "Optimal Fast Window: 96\n",
      "Optimal Slow Window: 100\n",
      "\n",
      "Optimal 'go short' strategy:\n",
      "Max Sharpe Ratio: 0.5894201859949351\n",
      "Optimal Fast Window: 96\n",
      "Optimal Slow Window: 100\n",
      "\n",
      "Optimal values for INTC:\n",
      "Optimal 'go flat' strategy:\n",
      "Max Sharpe Ratio: 0.2052169871937377\n",
      "Optimal Fast Window: 63\n",
      "Optimal Slow Window: 215\n",
      "\n",
      "Optimal 'go short' strategy:\n",
      "Max Sharpe Ratio: 0.26444251195783436\n",
      "Optimal Fast Window: 68\n",
      "Optimal Slow Window: 75\n",
      "\n",
      "Optimal values for PFE:\n",
      "Optimal 'go flat' strategy:\n",
      "Max Sharpe Ratio: 0.21019163660030124\n",
      "Optimal Fast Window: 91\n",
      "Optimal Slow Window: 225\n",
      "\n",
      "Optimal 'go short' strategy:\n",
      "Max Sharpe Ratio: 0.2585250518229192\n",
      "Optimal Fast Window: 46\n",
      "Optimal Slow Window: 85\n",
      "\n",
      "Optimal values for SPY:\n",
      "Optimal 'go flat' strategy:\n",
      "Max Sharpe Ratio: 0.6549145046809602\n",
      "Optimal Fast Window: 25\n",
      "Optimal Slow Window: 235\n",
      "\n",
      "Optimal 'go short' strategy:\n",
      "Max Sharpe Ratio: 0.5688775242523727\n",
      "Optimal Fast Window: 33\n",
      "Optimal Slow Window: 220\n",
      "\n",
      "Comprehensive DataFrame:\n",
      "   Stock OtherStock  OptimalFlatSharpeOther  OptimalShortSharpeOther\n",
      "0   AAPL        EXC                0.366472                 0.117521\n",
      "1   AAPL         GE                0.523437                 0.203060\n",
      "2   AAPL       INTC                0.656826                 0.317492\n",
      "3   AAPL        PFE                0.615625                 0.241126\n",
      "4   AAPL        SPY                0.855839                 0.537212\n",
      "5    EXC       AAPL                0.099262                 0.041094\n",
      "6    EXC         GE                0.196156                 0.122743\n",
      "7    EXC       INTC                0.153834                 0.117736\n",
      "8    EXC        PFE                0.125620                 0.096436\n",
      "9    EXC        SPY                0.158831                 0.144009\n",
      "10    GE       AAPL                0.033361                 0.391275\n",
      "11    GE        EXC               -0.197577                 0.094002\n",
      "12    GE       INTC               -0.011231                 0.347790\n",
      "13    GE        PFE                0.032387                 0.386248\n",
      "14    GE        SPY                0.133218                 0.476072\n",
      "15  INTC       AAPL                0.081373                 0.053456\n",
      "16  INTC        EXC               -0.086262                -0.071511\n",
      "17  INTC         GE               -0.073737                -0.066243\n",
      "18  INTC        PFE                0.082702                 0.080348\n",
      "19  INTC        SPY               -0.010901                -0.069342\n",
      "20   PFE       AAPL               -0.102839                -0.116233\n",
      "21   PFE        EXC               -0.017516                -0.075255\n",
      "22   PFE         GE               -0.079998                -0.098866\n",
      "23   PFE       INTC                0.063608                 0.074453\n",
      "24   PFE        SPY                0.035759                 0.044071\n",
      "25   SPY       AAPL                0.515852                 0.386328\n",
      "26   SPY        EXC                0.020205                -0.142446\n",
      "27   SPY         GE                0.326273                 0.220241\n",
      "28   SPY       INTC                0.481560                 0.399722\n",
      "29   SPY        PFE                0.371529                 0.270086\n"
     ]
    }
   ],
   "source": [
    "# defining the new function with the appropriate arguments to take in abs\n",
    "def movingAverageCrossover(dataFrame, fastWindow, slowWindow):\n",
    "    # checking that the inputted column from the dataframe is just 1 otherwise raising an error\n",
    "    if len(dataFrame.columns) != 1:\n",
    "        raise ValueError(\"Input dataFrame should have only one column\")\n",
    "\n",
    "    # copying the dataframe so as to not modify the original\n",
    "    instrument = dataFrame.columns[0]\n",
    "    data = dataFrame.copy()\n",
    "\n",
    "    # Calculate fast and slow moving averages\n",
    "    data.loc[:, 'FastSMA'] = data[instrument].rolling(fastWindow).mean()\n",
    "    data.loc[:, 'SlowSMA'] = data[instrument].rolling(slowWindow).mean()\n",
    "\n",
    "    # Dropping NAs\n",
    "    data.style.format(na_rep='NaN')\n",
    "    data.dropna(inplace=True)\n",
    "\n",
    "    # Implement \"go flat\" strategy\n",
    "    data.loc[:, 'Position_f'] = np.where(data['FastSMA'] > data['SlowSMA'], 1, 0)\n",
    "    data.loc[:, instrument + '-BMK'] = np.log(data[instrument] / data[instrument].shift(1))\n",
    "    data.loc[:, instrument + '-MAFlat'] = data['Position_f'].shift(1) * data[instrument + '-BMK']\n",
    "\n",
    "    # Implement \"go short\" strategy\n",
    "    data.loc[:, 'Position_s'] = np.where(data['FastSMA'] > data['SlowSMA'], 1, -1)\n",
    "    data.loc[:, instrument + '-MAShort'] = data['Position_s'].shift(1) * data[instrument + '-BMK']\n",
    "\n",
    "    # returning the relevant columns\n",
    "    return data[[instrument + \"-BMK\", instrument + \"-MAFlat\", instrument + \"-MAShort\"]]\n",
    "\n",
    "# List of stock symbols\n",
    "stock_symbols = ['AAPL', 'EXC', 'GE', 'INTC', 'PFE', 'SPY']\n",
    "\n",
    "# Dictionary to store optimal values\n",
    "optimal_values = {}\n",
    "\n",
    "# Comprehensive DataFrame to store Sharpe ratios for each stock using optimal windows of other stocks\n",
    "comprehensive_df = pd.DataFrame()\n",
    "\n",
    "# Iterate through stocks\n",
    "for symbol in stock_symbols:\n",
    "    # Extract closing prices\n",
    "    df_stock = dfPrices[[symbol]].copy()\n",
    "\n",
    "    # Initialize variables to store optimal values\n",
    "    max_flat_sharpe = -float('inf')\n",
    "    optimal_flat_window = None\n",
    "    optimal_flat_slow_window = None\n",
    "\n",
    "    max_short_sharpe = -float('inf')\n",
    "    optimal_short_window = None\n",
    "    optimal_short_slow_window = None\n",
    "\n",
    "    # Iterate through window combinations\n",
    "    for fast_window in range(5, 110):\n",
    "        for slow_window in range(50, 500, 5):\n",
    "            # Ensure fast window is less than slow window\n",
    "            if fast_window < slow_window:\n",
    "                # Run the function\n",
    "                returns_df = movingAverageCrossover(df_stock.copy(), fast_window, slow_window)\n",
    "\n",
    "                # Calculate Sharpe ratios\n",
    "                flat_sharpe = returns_df[symbol + '-MAFlat'].mean() / returns_df[symbol + '-MAFlat'].std() * np.sqrt(260)\n",
    "                short_sharpe = returns_df[symbol + '-MAShort'].mean() / returns_df[symbol + '-MAShort'].std() * np.sqrt(260)\n",
    "\n",
    "                # Update optimal values for 'go flat' strategy\n",
    "                if flat_sharpe > max_flat_sharpe:\n",
    "                    max_flat_sharpe = flat_sharpe\n",
    "                    optimal_flat_window = fast_window\n",
    "                    optimal_flat_slow_window = slow_window\n",
    "\n",
    "                # Update optimal values for 'go short' strategy\n",
    "                if short_sharpe > max_short_sharpe:\n",
    "                    max_short_sharpe = short_sharpe\n",
    "                    optimal_short_window = fast_window\n",
    "                    optimal_short_slow_window = slow_window\n",
    "\n",
    "    # Store optimal values for each stock\n",
    "    optimal_values[symbol] = {\n",
    "        'OptimalFlatSharpe': max_flat_sharpe,\n",
    "        'OptimalFlatWindow': optimal_flat_window,\n",
    "        'OptimalFlatSlowWindow': optimal_flat_slow_window,\n",
    "        'OptimalShortSharpe': max_short_sharpe,\n",
    "        'OptimalShortWindow': optimal_short_window,\n",
    "        'OptimalShortSlowWindow': optimal_short_slow_window,\n",
    "    }\n",
    "\n",
    "# Initialize an empty list to store DataFrames\n",
    "comprehensive_dfs = []\n",
    "\n",
    "# Iterate through stocks again to calculate Sharpe ratios using optimal windows of other stocks\n",
    "for symbol in stock_symbols:\n",
    "    # Extract closing prices\n",
    "    df_stock = dfPrices[[symbol]].copy()\n",
    "\n",
    "    # Initialize a list to store dictionaries for results\n",
    "    results_list = []\n",
    "\n",
    "    # Iterate through other stocks\n",
    "    for other_symbol in stock_symbols:\n",
    "        if other_symbol != symbol:\n",
    "            # Run the function using optimal windows of the other stock\n",
    "            returns_df_other = movingAverageCrossover(df_stock.copy(), optimal_values[other_symbol]['OptimalFlatWindow'],\n",
    "                                                       optimal_values[other_symbol]['OptimalFlatSlowWindow'])\n",
    "\n",
    "            # Calculate Sharpe ratios for 'go flat' strategy\n",
    "            flat_sharpe_other = returns_df_other[symbol + '-MAFlat'].mean() / returns_df_other[symbol + '-MAFlat'].std() * np.sqrt(260)\n",
    "\n",
    "            # Calculate Sharpe ratios for 'go short' strategy\n",
    "            short_sharpe_other = returns_df_other[symbol + '-MAShort'].mean() / returns_df_other[symbol + '-MAShort'].std() * np.sqrt(260)\n",
    "\n",
    "            # Append results to the list as a dictionary\n",
    "            results_list.append({\n",
    "                'Stock': symbol,\n",
    "                'OtherStock': other_symbol,\n",
    "                'OptimalFlatSharpeOther': flat_sharpe_other,\n",
    "                'OptimalShortSharpeOther': short_sharpe_other,\n",
    "            })\n",
    "\n",
    "    # Convert the list of dictionaries to a DataFrame\n",
    "    df_results = pd.DataFrame(results_list)\n",
    "\n",
    "    # Append the DataFrame for the current stock to the list\n",
    "    comprehensive_dfs.append(df_results)\n",
    "\n",
    "# Concatenate all DataFrames in the list into a single comprehensive DataFrame\n",
    "comprehensive_df = pd.concat(comprehensive_dfs, ignore_index=True)\n",
    "\n",
    "# Print optimal values for each stock\n",
    "for symbol, values in optimal_values.items():\n",
    "    print(f\"\\nOptimal values for {symbol}:\")\n",
    "    print(\"Optimal 'go flat' strategy:\")\n",
    "    print(\"Max Sharpe Ratio:\", values['OptimalFlatSharpe'])\n",
    "    print(\"Optimal Fast Window:\", values['OptimalFlatWindow'])\n",
    "    print(\"Optimal Slow Window:\", values['OptimalFlatSlowWindow'])\n",
    "\n",
    "    print(\"\\nOptimal 'go short' strategy:\")\n",
    "    print(\"Max Sharpe Ratio:\", values['OptimalShortSharpe'])\n",
    "    print(\"Optimal Fast Window:\", values['OptimalShortWindow'])\n",
    "    print(\"Optimal Slow Window:\", values['OptimalShortSlowWindow'])\n",
    "\n",
    "# Print comprehensive DataFrame\n",
    "print(\"\\nComprehensive DataFrame:\")\n",
    "print(comprehensive_df)"
   ]
  },
  {
   "cell_type": "markdown",
   "id": "f4e130a1-fa36-4815-8d25-f21a44b88a6e",
   "metadata": {},
   "source": [
    "##### Income"
   ]
  },
  {
   "cell_type": "code",
   "execution_count": 6,
   "id": "5ec5c307-54df-404a-a043-bd96ae0ac3b8",
   "metadata": {
    "tags": []
   },
   "outputs": [
    {
     "name": "stdout",
     "output_type": "stream",
     "text": [
      "\n",
      "Optimal values for FBNDX:\n",
      "Optimal 'go flat' strategy:\n",
      "Max Sharpe Ratio: 0.5942553398824925\n",
      "Optimal Fast Window: 73\n",
      "Optimal Slow Window: 80\n",
      "\n",
      "Optimal 'go short' strategy:\n",
      "Max Sharpe Ratio: 0.6945634126094484\n",
      "Optimal Fast Window: 73\n",
      "Optimal Slow Window: 80\n",
      "\n",
      "Optimal values for VBTIX:\n",
      "Optimal 'go flat' strategy:\n",
      "Max Sharpe Ratio: 0.30374049270271836\n",
      "Optimal Fast Window: 70\n",
      "Optimal Slow Window: 90\n",
      "\n",
      "Optimal 'go short' strategy:\n",
      "Max Sharpe Ratio: 0.3102792368626982\n",
      "Optimal Fast Window: 74\n",
      "Optimal Slow Window: 75\n",
      "\n",
      "Comprehensive DataFrame:\n",
      "  Income OtherIncome  OptimalFlatSharpeOther  OptimalShortSharpeOther\n",
      "0  FBNDX       VBTIX                0.424794                 0.425127\n",
      "1  VBTIX       FBNDX                0.137733                 0.083303\n"
     ]
    }
   ],
   "source": [
    "# List of stock symbols\n",
    "income_symbols = ['FBNDX', 'VBTIX']\n",
    "\n",
    "# Dictionary to store optimal values\n",
    "optimal_values = {}\n",
    "\n",
    "# Comprehensive DataFrame to store Sharpe ratios for each stock using optimal windows of other stocks\n",
    "comprehensive_df = pd.DataFrame()\n",
    "\n",
    "# Iterate through stocks\n",
    "for symbol in income_symbols:\n",
    "    # Extract closing prices\n",
    "    df_stock = dfPrices[[symbol]].copy()\n",
    "\n",
    "    # Initialize variables to store optimal values\n",
    "    max_flat_sharpe = -float('inf')\n",
    "    optimal_flat_window = None\n",
    "    optimal_flat_slow_window = None\n",
    "\n",
    "    max_short_sharpe = -float('inf')\n",
    "    optimal_short_window = None\n",
    "    optimal_short_slow_window = None\n",
    "\n",
    "    # Iterate through window combinations\n",
    "    for fast_window in range(5, 110):\n",
    "        for slow_window in range(50, 500, 5):\n",
    "            # Ensure fast window is less than slow window\n",
    "            if fast_window < slow_window:\n",
    "                # Run the function\n",
    "                returns_df = movingAverageCrossover(df_stock.copy(), fast_window, slow_window)\n",
    "\n",
    "                # Calculate Sharpe ratios\n",
    "                flat_sharpe = returns_df[symbol + '-MAFlat'].mean() / returns_df[symbol + '-MAFlat'].std() * np.sqrt(260)\n",
    "                short_sharpe = returns_df[symbol + '-MAShort'].mean() / returns_df[symbol + '-MAShort'].std() * np.sqrt(260)\n",
    "\n",
    "                # Update optimal values for 'go flat' strategy\n",
    "                if flat_sharpe > max_flat_sharpe:\n",
    "                    max_flat_sharpe = flat_sharpe\n",
    "                    optimal_flat_window = fast_window\n",
    "                    optimal_flat_slow_window = slow_window\n",
    "\n",
    "                # Update optimal values for 'go short' strategy\n",
    "                if short_sharpe > max_short_sharpe:\n",
    "                    max_short_sharpe = short_sharpe\n",
    "                    optimal_short_window = fast_window\n",
    "                    optimal_short_slow_window = slow_window\n",
    "\n",
    "    # Store optimal values for each stock\n",
    "    optimal_values[symbol] = {\n",
    "        'OptimalFlatSharpe': max_flat_sharpe,\n",
    "        'OptimalFlatWindow': optimal_flat_window,\n",
    "        'OptimalFlatSlowWindow': optimal_flat_slow_window,\n",
    "        'OptimalShortSharpe': max_short_sharpe,\n",
    "        'OptimalShortWindow': optimal_short_window,\n",
    "        'OptimalShortSlowWindow': optimal_short_slow_window,\n",
    "    }\n",
    "\n",
    "# Initialize an empty list to store DataFrames\n",
    "comprehensive_dfs = []\n",
    "\n",
    "# Iterate through stocks again to calculate Sharpe ratios using optimal windows of other stocks\n",
    "for symbol in income_symbols:\n",
    "    # Extract closing prices\n",
    "    df_stock = dfPrices[[symbol]].copy()\n",
    "\n",
    "    # Initialize a list to store dictionaries for results\n",
    "    results_list = []\n",
    "\n",
    "    # Iterate through other stocks\n",
    "    for other_symbol in income_symbols:\n",
    "        if other_symbol != symbol:\n",
    "            # Run the function using optimal windows of the other stock\n",
    "            returns_df_other = movingAverageCrossover(df_stock.copy(), optimal_values[other_symbol]['OptimalFlatWindow'],\n",
    "                                                       optimal_values[other_symbol]['OptimalFlatSlowWindow'])\n",
    "\n",
    "            # Calculate Sharpe ratios for 'go flat' strategy\n",
    "            flat_sharpe_other = returns_df_other[symbol + '-MAFlat'].mean() / returns_df_other[symbol + '-MAFlat'].std() * np.sqrt(260)\n",
    "\n",
    "            # Calculate Sharpe ratios for 'go short' strategy\n",
    "            short_sharpe_other = returns_df_other[symbol + '-MAShort'].mean() / returns_df_other[symbol + '-MAShort'].std() * np.sqrt(260)\n",
    "\n",
    "            # Append results to the list as a dictionary\n",
    "            results_list.append({\n",
    "                'Income': symbol,\n",
    "                'OtherIncome': other_symbol,\n",
    "                'OptimalFlatSharpeOther': flat_sharpe_other,\n",
    "                'OptimalShortSharpeOther': short_sharpe_other,\n",
    "            })\n",
    "\n",
    "    # Convert the list of dictionaries to a DataFrame\n",
    "    df_results = pd.DataFrame(results_list)\n",
    "\n",
    "    # Append the DataFrame for the current stock to the list\n",
    "    comprehensive_dfs.append(df_results)\n",
    "\n",
    "# Concatenate all DataFrames in the list into a single comprehensive DataFrame\n",
    "comprehensive_df = pd.concat(comprehensive_dfs, ignore_index=True)\n",
    "\n",
    "# Print optimal values for each stock\n",
    "for symbol, values in optimal_values.items():\n",
    "    print(f\"\\nOptimal values for {symbol}:\")\n",
    "    print(\"Optimal 'go flat' strategy:\")\n",
    "    print(\"Max Sharpe Ratio:\", values['OptimalFlatSharpe'])\n",
    "    print(\"Optimal Fast Window:\", values['OptimalFlatWindow'])\n",
    "    print(\"Optimal Slow Window:\", values['OptimalFlatSlowWindow'])\n",
    "\n",
    "    print(\"\\nOptimal 'go short' strategy:\")\n",
    "    print(\"Max Sharpe Ratio:\", values['OptimalShortSharpe'])\n",
    "    print(\"Optimal Fast Window:\", values['OptimalShortWindow'])\n",
    "    print(\"Optimal Slow Window:\", values['OptimalShortSlowWindow'])\n",
    "\n",
    "# Print comprehensive DataFrame\n",
    "print(\"\\nComprehensive DataFrame:\")\n",
    "print(comprehensive_df)"
   ]
  },
  {
   "cell_type": "code",
   "execution_count": null,
   "id": "e25970c1-6ce5-468d-af6d-a1e97b8070ec",
   "metadata": {},
   "outputs": [],
   "source": []
  },
  {
   "cell_type": "markdown",
   "id": "c8ce0428-a4ff-41fc-a444-f385565556c5",
   "metadata": {},
   "source": [
    "##### Commodity"
   ]
  },
  {
   "cell_type": "code",
   "execution_count": 7,
   "id": "c95609b8-e9b4-4470-8f43-1868279bbf25",
   "metadata": {
    "tags": []
   },
   "outputs": [
    {
     "name": "stdout",
     "output_type": "stream",
     "text": [
      "\n",
      "Optimal values for SPGSCI:\n",
      "Optimal 'go flat' strategy:\n",
      "Max Sharpe Ratio: 0.5061390112717531\n",
      "Optimal Fast Window: 37\n",
      "Optimal Slow Window: 110\n",
      "\n",
      "Optimal 'go short' strategy:\n",
      "Max Sharpe Ratio: 0.612786635109216\n",
      "Optimal Fast Window: 37\n",
      "Optimal Slow Window: 110\n",
      "\n",
      "Optimal values for XPT:\n",
      "Optimal 'go flat' strategy:\n",
      "Max Sharpe Ratio: 0.5194367570673353\n",
      "Optimal Fast Window: 87\n",
      "Optimal Slow Window: 105\n",
      "\n",
      "Optimal 'go short' strategy:\n",
      "Max Sharpe Ratio: 0.6356771691969941\n",
      "Optimal Fast Window: 87\n",
      "Optimal Slow Window: 105\n",
      "\n",
      "Comprehensive DataFrame:\n",
      "  Commodity OtherCommodity  OptimalFlatSharpeOther  OptimalShortSharpeOther\n",
      "0    SPGSCI            XPT                0.454228                 0.547492\n",
      "1       XPT         SPGSCI                0.198427                 0.192641\n"
     ]
    }
   ],
   "source": [
    "# List of stock symbols\n",
    "commodity_symbols = ['SPGSCI', 'XPT']\n",
    "\n",
    "# Dictionary to store optimal values\n",
    "optimal_values = {}\n",
    "\n",
    "# Comprehensive DataFrame to store Sharpe ratios for each stock using optimal windows of other stocks\n",
    "comprehensive_df = pd.DataFrame()\n",
    "\n",
    "# Iterate through stocks\n",
    "for symbol in commodity_symbols:\n",
    "    # Extract closing prices\n",
    "    df_stock = dfPrices[[symbol]].copy()\n",
    "\n",
    "    # Initialize variables to store optimal values\n",
    "    max_flat_sharpe = -float('inf')\n",
    "    optimal_flat_window = None\n",
    "    optimal_flat_slow_window = None\n",
    "\n",
    "    max_short_sharpe = -float('inf')\n",
    "    optimal_short_window = None\n",
    "    optimal_short_slow_window = None\n",
    "\n",
    "    # Iterate through window combinations\n",
    "    for fast_window in range(5, 110):\n",
    "        for slow_window in range(50, 500, 5):\n",
    "            # Ensure fast window is less than slow window\n",
    "            if fast_window < slow_window:\n",
    "                # Run the function\n",
    "                returns_df = movingAverageCrossover(df_stock.copy(), fast_window, slow_window)\n",
    "\n",
    "                # Calculate Sharpe ratios\n",
    "                flat_sharpe = returns_df[symbol + '-MAFlat'].mean() / returns_df[symbol + '-MAFlat'].std() * np.sqrt(260)\n",
    "                short_sharpe = returns_df[symbol + '-MAShort'].mean() / returns_df[symbol + '-MAShort'].std() * np.sqrt(260)\n",
    "\n",
    "                # Update optimal values for 'go flat' strategy\n",
    "                if flat_sharpe > max_flat_sharpe:\n",
    "                    max_flat_sharpe = flat_sharpe\n",
    "                    optimal_flat_window = fast_window\n",
    "                    optimal_flat_slow_window = slow_window\n",
    "\n",
    "                # Update optimal values for 'go short' strategy\n",
    "                if short_sharpe > max_short_sharpe:\n",
    "                    max_short_sharpe = short_sharpe\n",
    "                    optimal_short_window = fast_window\n",
    "                    optimal_short_slow_window = slow_window\n",
    "\n",
    "    # Store optimal values for each stock\n",
    "    optimal_values[symbol] = {\n",
    "        'OptimalFlatSharpe': max_flat_sharpe,\n",
    "        'OptimalFlatWindow': optimal_flat_window,\n",
    "        'OptimalFlatSlowWindow': optimal_flat_slow_window,\n",
    "        'OptimalShortSharpe': max_short_sharpe,\n",
    "        'OptimalShortWindow': optimal_short_window,\n",
    "        'OptimalShortSlowWindow': optimal_short_slow_window,\n",
    "    }\n",
    "\n",
    "# Initialize an empty list to store DataFrames\n",
    "comprehensive_dfs = []\n",
    "\n",
    "# Iterate through stocks again to calculate Sharpe ratios using optimal windows of other stocks\n",
    "for symbol in commodity_symbols:\n",
    "    # Extract closing prices\n",
    "    df_stock = dfPrices[[symbol]].copy()\n",
    "\n",
    "    # Initialize a list to store dictionaries for results\n",
    "    results_list = []\n",
    "\n",
    "    # Iterate through other stocks\n",
    "    for other_symbol in commodity_symbols:\n",
    "        if other_symbol != symbol:\n",
    "            # Run the function using optimal windows of the other stock\n",
    "            returns_df_other = movingAverageCrossover(df_stock.copy(), optimal_values[other_symbol]['OptimalFlatWindow'],\n",
    "                                                       optimal_values[other_symbol]['OptimalFlatSlowWindow'])\n",
    "\n",
    "            # Calculate Sharpe ratios for 'go flat' strategy\n",
    "            flat_sharpe_other = returns_df_other[symbol + '-MAFlat'].mean() / returns_df_other[symbol + '-MAFlat'].std() * np.sqrt(260)\n",
    "\n",
    "            # Calculate Sharpe ratios for 'go short' strategy\n",
    "            short_sharpe_other = returns_df_other[symbol + '-MAShort'].mean() / returns_df_other[symbol + '-MAShort'].std() * np.sqrt(260)\n",
    "\n",
    "            # Append results to the list as a dictionary\n",
    "            results_list.append({\n",
    "                'Commodity': symbol,\n",
    "                'OtherCommodity': other_symbol,\n",
    "                'OptimalFlatSharpeOther': flat_sharpe_other,\n",
    "                'OptimalShortSharpeOther': short_sharpe_other,\n",
    "            })\n",
    "\n",
    "    # Convert the list of dictionaries to a DataFrame\n",
    "    df_results = pd.DataFrame(results_list)\n",
    "\n",
    "    # Append the DataFrame for the current stock to the list\n",
    "    comprehensive_dfs.append(df_results)\n",
    "\n",
    "# Concatenate all DataFrames in the list into a single comprehensive DataFrame\n",
    "comprehensive_df = pd.concat(comprehensive_dfs, ignore_index=True)\n",
    "\n",
    "# Print optimal values for each stock\n",
    "for symbol, values in optimal_values.items():\n",
    "    print(f\"\\nOptimal values for {symbol}:\")\n",
    "    print(\"Optimal 'go flat' strategy:\")\n",
    "    print(\"Max Sharpe Ratio:\", values['OptimalFlatSharpe'])\n",
    "    print(\"Optimal Fast Window:\", values['OptimalFlatWindow'])\n",
    "    print(\"Optimal Slow Window:\", values['OptimalFlatSlowWindow'])\n",
    "\n",
    "    print(\"\\nOptimal 'go short' strategy:\")\n",
    "    print(\"Max Sharpe Ratio:\", values['OptimalShortSharpe'])\n",
    "    print(\"Optimal Fast Window:\", values['OptimalShortWindow'])\n",
    "    print(\"Optimal Slow Window:\", values['OptimalShortSlowWindow'])\n",
    "\n",
    "# Print comprehensive DataFrame\n",
    "print(\"\\nComprehensive DataFrame:\")\n",
    "print(comprehensive_df)"
   ]
  },
  {
   "cell_type": "code",
   "execution_count": null,
   "id": "0b5405ec-e98e-45a2-8059-5bcb9820d596",
   "metadata": {},
   "outputs": [],
   "source": []
  },
  {
   "cell_type": "markdown",
   "id": "9a8d700e-43e1-4c6a-8965-0888000542aa",
   "metadata": {},
   "source": [
    "##### Currency"
   ]
  },
  {
   "cell_type": "code",
   "execution_count": 8,
   "id": "2ebd408a-8570-49ee-ae03-9548ddeb737d",
   "metadata": {
    "tags": []
   },
   "outputs": [
    {
     "name": "stdout",
     "output_type": "stream",
     "text": [
      "\n",
      "Optimal values for CAD:\n",
      "Optimal 'go flat' strategy:\n",
      "Max Sharpe Ratio: 0.40829671722512484\n",
      "Optimal Fast Window: 33\n",
      "Optimal Slow Window: 135\n",
      "\n",
      "Optimal 'go short' strategy:\n",
      "Max Sharpe Ratio: 0.507899070159781\n",
      "Optimal Fast Window: 33\n",
      "Optimal Slow Window: 135\n",
      "\n",
      "Optimal values for GBP:\n",
      "Optimal 'go flat' strategy:\n",
      "Max Sharpe Ratio: 0.3785842358009619\n",
      "Optimal Fast Window: 85\n",
      "Optimal Slow Window: 100\n",
      "\n",
      "Optimal 'go short' strategy:\n",
      "Max Sharpe Ratio: 0.5571258326195784\n",
      "Optimal Fast Window: 87\n",
      "Optimal Slow Window: 130\n",
      "\n",
      "Comprehensive DataFrame:\n",
      "  Currency OtherCurrency  OptimalFlatSharpeOther  OptimalShortSharpeOther\n",
      "0      CAD           GBP                0.146115                 0.141229\n",
      "1      GBP           CAD               -0.026498                 0.061582\n"
     ]
    }
   ],
   "source": [
    "# List of stock symbols\n",
    "currency_symbols = ['CAD', 'GBP']\n",
    "\n",
    "# Dictionary to store optimal values\n",
    "optimal_values = {}\n",
    "\n",
    "# Comprehensive DataFrame to store Sharpe ratios for each stock using optimal windows of other stocks\n",
    "comprehensive_df = pd.DataFrame()\n",
    "\n",
    "# Iterate through stocks\n",
    "for symbol in currency_symbols:\n",
    "    # Extract closing prices\n",
    "    df_stock = dfPrices[[symbol]].copy()\n",
    "\n",
    "    # Initialize variables to store optimal values\n",
    "    max_flat_sharpe = -float('inf')\n",
    "    optimal_flat_window = None\n",
    "    optimal_flat_slow_window = None\n",
    "\n",
    "    max_short_sharpe = -float('inf')\n",
    "    optimal_short_window = None\n",
    "    optimal_short_slow_window = None\n",
    "\n",
    "    # Iterate through window combinations\n",
    "    for fast_window in range(5, 110):\n",
    "        for slow_window in range(50, 500, 5):\n",
    "            # Ensure fast window is less than slow window\n",
    "            if fast_window < slow_window:\n",
    "                # Run the function\n",
    "                returns_df = movingAverageCrossover(df_stock.copy(), fast_window, slow_window)\n",
    "\n",
    "                # Calculate Sharpe ratios\n",
    "                flat_sharpe = returns_df[symbol + '-MAFlat'].mean() / returns_df[symbol + '-MAFlat'].std() * np.sqrt(260)\n",
    "                short_sharpe = returns_df[symbol + '-MAShort'].mean() / returns_df[symbol + '-MAShort'].std() * np.sqrt(260)\n",
    "\n",
    "                # Update optimal values for 'go flat' strategy\n",
    "                if flat_sharpe > max_flat_sharpe:\n",
    "                    max_flat_sharpe = flat_sharpe\n",
    "                    optimal_flat_window = fast_window\n",
    "                    optimal_flat_slow_window = slow_window\n",
    "\n",
    "                # Update optimal values for 'go short' strategy\n",
    "                if short_sharpe > max_short_sharpe:\n",
    "                    max_short_sharpe = short_sharpe\n",
    "                    optimal_short_window = fast_window\n",
    "                    optimal_short_slow_window = slow_window\n",
    "\n",
    "    # Store optimal values for each stock\n",
    "    optimal_values[symbol] = {\n",
    "        'OptimalFlatSharpe': max_flat_sharpe,\n",
    "        'OptimalFlatWindow': optimal_flat_window,\n",
    "        'OptimalFlatSlowWindow': optimal_flat_slow_window,\n",
    "        'OptimalShortSharpe': max_short_sharpe,\n",
    "        'OptimalShortWindow': optimal_short_window,\n",
    "        'OptimalShortSlowWindow': optimal_short_slow_window,\n",
    "    }\n",
    "\n",
    "# Initialize an empty list to store DataFrames\n",
    "comprehensive_dfs = []\n",
    "\n",
    "# Iterate through stocks again to calculate Sharpe ratios using optimal windows of other stocks\n",
    "for symbol in currency_symbols:\n",
    "    # Extract closing prices\n",
    "    df_stock = dfPrices[[symbol]].copy()\n",
    "\n",
    "    # Initialize a list to store dictionaries for results\n",
    "    results_list = []\n",
    "\n",
    "    # Iterate through other stocks\n",
    "    for other_symbol in currency_symbols:\n",
    "        if other_symbol != symbol:\n",
    "            # Run the function using optimal windows of the other stock\n",
    "            returns_df_other = movingAverageCrossover(df_stock.copy(), optimal_values[other_symbol]['OptimalFlatWindow'],\n",
    "                                                       optimal_values[other_symbol]['OptimalFlatSlowWindow'])\n",
    "\n",
    "            # Calculate Sharpe ratios for 'go flat' strategy\n",
    "            flat_sharpe_other = returns_df_other[symbol + '-MAFlat'].mean() / returns_df_other[symbol + '-MAFlat'].std() * np.sqrt(260)\n",
    "\n",
    "            # Calculate Sharpe ratios for 'go short' strategy\n",
    "            short_sharpe_other = returns_df_other[symbol + '-MAShort'].mean() / returns_df_other[symbol + '-MAShort'].std() * np.sqrt(260)\n",
    "\n",
    "            # Append results to the list as a dictionary\n",
    "            results_list.append({\n",
    "                'Currency': symbol,\n",
    "                'OtherCurrency': other_symbol,\n",
    "                'OptimalFlatSharpeOther': flat_sharpe_other,\n",
    "                'OptimalShortSharpeOther': short_sharpe_other,\n",
    "            })\n",
    "\n",
    "    # Convert the list of dictionaries to a DataFrame\n",
    "    df_results = pd.DataFrame(results_list)\n",
    "\n",
    "    # Append the DataFrame for the current stock to the list\n",
    "    comprehensive_dfs.append(df_results)\n",
    "\n",
    "# Concatenate all DataFrames in the list into a single comprehensive DataFrame\n",
    "comprehensive_df = pd.concat(comprehensive_dfs, ignore_index=True)\n",
    "\n",
    "# Print optimal values for each stock\n",
    "for symbol, values in optimal_values.items():\n",
    "    print(f\"\\nOptimal values for {symbol}:\")\n",
    "    print(\"Optimal 'go flat' strategy:\")\n",
    "    print(\"Max Sharpe Ratio:\", values['OptimalFlatSharpe'])\n",
    "    print(\"Optimal Fast Window:\", values['OptimalFlatWindow'])\n",
    "    print(\"Optimal Slow Window:\", values['OptimalFlatSlowWindow'])\n",
    "\n",
    "    print(\"\\nOptimal 'go short' strategy:\")\n",
    "    print(\"Max Sharpe Ratio:\", values['OptimalShortSharpe'])\n",
    "    print(\"Optimal Fast Window:\", values['OptimalShortWindow'])\n",
    "    print(\"Optimal Slow Window:\", values['OptimalShortSlowWindow'])\n",
    "\n",
    "# Print comprehensive DataFrame\n",
    "print(\"\\nComprehensive DataFrame:\")\n",
    "print(comprehensive_df)"
   ]
  },
  {
   "cell_type": "code",
   "execution_count": null,
   "id": "26b43f6f-a845-460d-8199-4f55f7578301",
   "metadata": {},
   "outputs": [],
   "source": []
  },
  {
   "cell_type": "markdown",
   "id": "5b7c422a-ca52-41ee-8715-a51f12e55410",
   "metadata": {},
   "source": [
    "#### Bollinger Bands"
   ]
  },
  {
   "cell_type": "code",
   "execution_count": 9,
   "id": "6d3bb10e-dd1c-4a44-9a13-6c3ef9a7b81e",
   "metadata": {},
   "outputs": [],
   "source": [
    "def bollingerBands(df, lookbackWindow, stdevBand):\n",
    "    \"\"\"\n",
    "    Implement Bollinger Bands strategy.\n",
    "\n",
    "    Parameters:\n",
    "    - df: DataFrame with a single instrument's price series.\n",
    "    - lookbackWindow: Integer, the lookback window size for calculating rolling mean and standard deviation.\n",
    "    - stdevBand: Integer, the number of standard deviations for the Bollinger Bands.\n",
    "\n",
    "    Returns:\n",
    "    - DataFrame with two columns of daily returns: Benchmark and Bollinger Bands strategy.\n",
    "    \"\"\"\n",
    "    if len(df.columns) != 1:\n",
    "        raise ValueError(\"Input DataFrame should have only one column (instrument prices).\")\n",
    "\n",
    "    # Copy the DataFrame to avoid modifying the original\n",
    "    df_copy = df.copy()\n",
    "\n",
    "    # Calculate rolling mean and rolling standard deviation\n",
    "    df_copy['Mean'] = df_copy.iloc[:, 0].rolling(lookbackWindow).mean()\n",
    "    df_copy['Stdev'] = df_copy.iloc[:, 0].rolling(lookbackWindow).std()\n",
    "\n",
    "    # Drop rows with NaN values due to rolling calculations\n",
    "    df_copy.dropna(inplace=True)\n",
    "\n",
    "    # Create Upper and Lower Bollinger Bands\n",
    "    df_copy['Upper'] = df_copy['Mean'] + stdevBand * df_copy['Stdev']\n",
    "    df_copy['Lower'] = df_copy['Mean'] - stdevBand * df_copy['Stdev']\n",
    "\n",
    "    # Initialize the first row based on the close price vis-a-vis the bands\n",
    "    # Here, we're also initializing a new column called 'Position'\n",
    "    date0 = df_copy.index[0]\n",
    "    if df_copy.loc[date0, df_copy.columns[0]] >= df_copy.loc[date0, 'Upper']:\n",
    "        df_copy.loc[date0, 'Position'] = -1\n",
    "    elif df_copy.loc[date0, df_copy.columns[0]] <= df_copy.loc[date0, 'Lower']:\n",
    "        df_copy.loc[date0, 'Position'] = 1\n",
    "    else:\n",
    "        df_copy.loc[date0, 'Position'] = 0\n",
    "\n",
    "    # Loop over the entire dataset\n",
    "    for i in range(1, df_copy.shape[0]):\n",
    "        today = df_copy.index[i]\n",
    "        yesterday = df_copy.index[i - 1]\n",
    "\n",
    "        if df_copy.loc[today, df_copy.columns[0]] >= df_copy.loc[today, 'Upper']:\n",
    "            df_copy.loc[today, 'Position'] = -1\n",
    "        elif df_copy.loc[today, df_copy.columns[0]] <= df_copy.loc[today, 'Lower']:\n",
    "            df_copy.loc[today, 'Position'] = 1\n",
    "        elif df_copy.loc[yesterday, 'Position'] == -1 and df_copy.loc[today, df_copy.columns[0]] <= df_copy.loc[today, 'Mean']:\n",
    "            df_copy.loc[today, 'Position'] = 0\n",
    "        elif df_copy.loc[yesterday, 'Position'] == 1 and df_copy.loc[today, df_copy.columns[0]] >= df_copy.loc[today, 'Mean']:\n",
    "            df_copy.loc[today, 'Position'] = 0\n",
    "        else:\n",
    "            df_copy.loc[today, 'Position'] = df_copy.loc[yesterday, 'Position']\n",
    "\n",
    "    # Calculate benchmark returns\n",
    "    df_copy['Benchmark'] = np.log(df_copy.iloc[:, 0] / df_copy.iloc[:, 0].shift(1))\n",
    "\n",
    "    # Calculate strategy returns, taking care to lag the positions by one day\n",
    "    df_copy['BBReturns'] = df_copy['Position'].shift(1) * df_copy['Benchmark']\n",
    "\n",
    "    # Rename columns to indicate instrument and strategy\n",
    "    instrument_name = df.columns[0]\n",
    "    df_copy = df_copy.rename(columns={\n",
    "        'Benchmark': f'{instrument_name}-BMK',\n",
    "        'BBReturns': f'{instrument_name}-BB'\n",
    "    })\n",
    "\n",
    "    return df_copy[[f'{instrument_name}-BMK', f'{instrument_name}-BB']]"
   ]
  },
  {
   "cell_type": "code",
   "execution_count": 10,
   "id": "ac412f55-dcea-4862-9ccb-5d8cbccd26e3",
   "metadata": {},
   "outputs": [
    {
     "name": "stdout",
     "output_type": "stream",
     "text": [
      "\n",
      "Sharpe Ratios for PFE:\n",
      "   Lookback Window  Stdev Band  Sharpe Ratio\n",
      "0               20           2      0.338640\n",
      "1               20           3      0.254782\n",
      "2               22           2      0.456597\n",
      "3               22           3      0.196423\n",
      "4               24           2      0.373199\n"
     ]
    }
   ],
   "source": [
    "lookback_windows = range(20, 150, 2)  # 2 to 49 inclusive\n",
    "stdev_bands = range(2, 4)        # 1 to 3 inclusive\n",
    "sharpe_ratios_dict = {}\n",
    "stock_symbols = ['PFE']\n",
    "\n",
    "# Loop through each stock symbol\n",
    "for symbol in stock_symbols:\n",
    "    # Initialize a list to store Sharpe Ratios for the current stock\n",
    "    sharpe_ratios = []\n",
    "\n",
    "    # Loop through each combination of lookback window and standard deviation band\n",
    "    for lookback_window in lookback_windows:\n",
    "        for stdev_band in stdev_bands:\n",
    "            # Apply the Bollinger Bands strategy for the current stock\n",
    "            bollinger_df = bollingerBands(dfPrices[[symbol]].copy(), lookback_window, stdev_band)\n",
    "            \n",
    "            # Calculate daily returns for the strategy\n",
    "            strategy_returns = bollinger_df[f'{symbol}-BB']\n",
    "            \n",
    "            # Ensure the strategy made at least one trade\n",
    "            if strategy_returns.abs().sum() > 0:\n",
    "                # Calculate the Sharpe Ratio (annualized)\n",
    "                sharpe_ratio = strategy_returns.mean() / strategy_returns.std() * np.sqrt(252)\n",
    "                sharpe_ratios.append({\n",
    "                    'Lookback Window': lookback_window,\n",
    "                    'Stdev Band': stdev_band,\n",
    "                    'Sharpe Ratio': sharpe_ratio\n",
    "                })\n",
    "\n",
    "    # Convert the list of Sharpe Ratios to a DataFrame for the current stock\n",
    "    df_sharpe_ratios = pd.DataFrame(sharpe_ratios)\n",
    "    \n",
    "    # Store the Sharpe Ratios DataFrame in the dictionary\n",
    "    sharpe_ratios_dict[symbol] = df_sharpe_ratios\n",
    "\n",
    "# Display the first few entries of the Sharpe Ratios DataFrames for each stock\n",
    "for symbol, df_sharpe_ratios in sharpe_ratios_dict.items():\n",
    "    print(f'\\nSharpe Ratios for {symbol}:')\n",
    "    print(df_sharpe_ratios.head())"
   ]
  },
  {
   "cell_type": "code",
   "execution_count": 11,
   "id": "a7732050-abd4-4cd9-b265-ca3e9da38198",
   "metadata": {
    "tags": []
   },
   "outputs": [
    {
     "data": {
      "text/html": [
       "<style type=\"text/css\">\n",
       "</style>\n",
       "<table id=\"T_0d705\">\n",
       "  <thead>\n",
       "    <tr>\n",
       "      <th class=\"blank level0\" >&nbsp;</th>\n",
       "      <th id=\"T_0d705_level0_col0\" class=\"col_heading level0 col0\" >PFE-BMK</th>\n",
       "      <th id=\"T_0d705_level0_col1\" class=\"col_heading level0 col1\" >PFE-BB</th>\n",
       "    </tr>\n",
       "  </thead>\n",
       "  <tbody>\n",
       "    <tr>\n",
       "      <th id=\"T_0d705_level0_row0\" class=\"row_heading level0 row0\" >Average Annual Return</th>\n",
       "      <td id=\"T_0d705_row0_col0\" class=\"data row0 col0\" >-0.26%</td>\n",
       "      <td id=\"T_0d705_row0_col1\" class=\"data row0 col1\" >8.16%</td>\n",
       "    </tr>\n",
       "    <tr>\n",
       "      <th id=\"T_0d705_level0_row1\" class=\"row_heading level0 row1\" >Annual Risk</th>\n",
       "      <td id=\"T_0d705_row1_col0\" class=\"data row1 col0\" >24.57%</td>\n",
       "      <td id=\"T_0d705_row1_col1\" class=\"data row1 col1\" >12.93%</td>\n",
       "    </tr>\n",
       "    <tr>\n",
       "      <th id=\"T_0d705_level0_row2\" class=\"row_heading level0 row2\" >Success Ratio</th>\n",
       "      <td id=\"T_0d705_row2_col0\" class=\"data row2 col0\" >50.35%</td>\n",
       "      <td id=\"T_0d705_row2_col1\" class=\"data row2 col1\" >92.59%</td>\n",
       "    </tr>\n",
       "    <tr>\n",
       "      <th id=\"T_0d705_level0_row3\" class=\"row_heading level0 row3\" >maxDD</th>\n",
       "      <td id=\"T_0d705_row3_col0\" class=\"data row3 col0\" >-140.32%</td>\n",
       "      <td id=\"T_0d705_row3_col1\" class=\"data row3 col1\" >-24.22%</td>\n",
       "    </tr>\n",
       "  </tbody>\n",
       "</table>\n"
      ],
      "text/plain": [
       "<pandas.io.formats.style.Styler at 0x174b18c10>"
      ]
     },
     "metadata": {},
     "output_type": "display_data"
    },
    {
     "data": {
      "text/html": [
       "<div>\n",
       "<style scoped>\n",
       "    .dataframe tbody tr th:only-of-type {\n",
       "        vertical-align: middle;\n",
       "    }\n",
       "\n",
       "    .dataframe tbody tr th {\n",
       "        vertical-align: top;\n",
       "    }\n",
       "\n",
       "    .dataframe thead th {\n",
       "        text-align: right;\n",
       "    }\n",
       "</style>\n",
       "<table border=\"1\" class=\"dataframe\">\n",
       "  <thead>\n",
       "    <tr style=\"text-align: right;\">\n",
       "      <th></th>\n",
       "      <th>PFE-BMK</th>\n",
       "      <th>PFE-BB</th>\n",
       "    </tr>\n",
       "  </thead>\n",
       "  <tbody>\n",
       "    <tr>\n",
       "      <th>Sharpe Ratio</th>\n",
       "      <td>-0.010735</td>\n",
       "      <td>0.630957</td>\n",
       "    </tr>\n",
       "  </tbody>\n",
       "</table>\n",
       "</div>"
      ],
      "text/plain": [
       "               PFE-BMK    PFE-BB\n",
       "Sharpe Ratio -0.010735  0.630957"
      ]
     },
     "metadata": {},
     "output_type": "display_data"
    }
   ],
   "source": [
    "calcSummaryStatistics(bollingerBands(dfPrices[['PFE']], 148, 3))"
   ]
  },
  {
   "cell_type": "code",
   "execution_count": 67,
   "id": "d84a492b-c490-4e0b-8b73-03f5d3211a15",
   "metadata": {
    "tags": []
   },
   "outputs": [],
   "source": [
    "df_AAPL_MAflat = movingAverageCrossover(dfPrices[['AAPL']], 11, 220)"
   ]
  },
  {
   "cell_type": "code",
   "execution_count": 68,
   "id": "da164bc3-ff21-4c88-bba1-eca9fbc37993",
   "metadata": {
    "tags": []
   },
   "outputs": [],
   "source": [
    "df_AAPL_MAflat = df_AAPL_MAflat['AAPL-MAFlat']"
   ]
  },
  {
   "cell_type": "code",
   "execution_count": 69,
   "id": "3f40bc40-ed70-45a0-a967-18e6f22b2ddd",
   "metadata": {
    "tags": []
   },
   "outputs": [
    {
     "data": {
      "text/plain": [
       "Date\n",
       "2000-11-10    NaN\n",
       "2000-11-13    0.0\n",
       "2000-11-14    0.0\n",
       "2000-11-15   -0.0\n",
       "2000-11-16   -0.0\n",
       "             ... \n",
       "2018-12-24   -0.0\n",
       "2018-12-26    0.0\n",
       "2018-12-27   -0.0\n",
       "2018-12-28    0.0\n",
       "2018-12-31    0.0\n",
       "Name: AAPL-MAFlat, Length: 4561, dtype: float64"
      ]
     },
     "execution_count": 69,
     "metadata": {},
     "output_type": "execute_result"
    }
   ],
   "source": [
    "df_AAPL_MAflat"
   ]
  },
  {
   "cell_type": "code",
   "execution_count": 70,
   "id": "392d69fe-06cf-4762-a8ed-340d251ec683",
   "metadata": {
    "tags": []
   },
   "outputs": [],
   "source": [
    "df_EXC_MAflat = movingAverageCrossover(dfPrices[['EXC']], 11, 220)"
   ]
  },
  {
   "cell_type": "code",
   "execution_count": 71,
   "id": "9843f3b7-3c1b-4647-9656-e8282f979491",
   "metadata": {
    "tags": []
   },
   "outputs": [
    {
     "data": {
      "text/plain": [
       "Date\n",
       "2000-11-10         NaN\n",
       "2000-11-13    0.006263\n",
       "2000-11-14   -0.028498\n",
       "2000-11-15    0.003207\n",
       "2000-11-16    0.022165\n",
       "                ...   \n",
       "2018-12-24   -0.045929\n",
       "2018-12-26    0.014721\n",
       "2018-12-27    0.006722\n",
       "2018-12-28   -0.000894\n",
       "2018-12-31    0.008014\n",
       "Name: EXC-MAFlat, Length: 4561, dtype: float64"
      ]
     },
     "execution_count": 71,
     "metadata": {},
     "output_type": "execute_result"
    }
   ],
   "source": [
    "df_EXC_MAflat = df_EXC_MAflat['EXC-MAFlat']\n",
    "df_EXC_MAflat"
   ]
  },
  {
   "cell_type": "code",
   "execution_count": 72,
   "id": "e5a86720-c5f1-472b-9567-1f1c7d175ab9",
   "metadata": {
    "tags": []
   },
   "outputs": [],
   "source": [
    "df_GE_MAflat = movingAverageCrossover(dfPrices[['GE']], 11, 220)"
   ]
  },
  {
   "cell_type": "code",
   "execution_count": 73,
   "id": "172a4e19-0ec4-4734-b376-1d554bbe4c68",
   "metadata": {
    "tags": []
   },
   "outputs": [
    {
     "data": {
      "text/plain": [
       "Date\n",
       "2000-11-10         NaN\n",
       "2000-11-13   -0.046299\n",
       "2000-11-14    0.025196\n",
       "2000-11-15   -0.004751\n",
       "2000-11-16    0.002378\n",
       "                ...   \n",
       "2018-12-24   -0.000000\n",
       "2018-12-26    0.000000\n",
       "2018-12-27   -0.000000\n",
       "2018-12-28    0.000000\n",
       "2018-12-31    0.000000\n",
       "Name: GE-MAFlat, Length: 4561, dtype: float64"
      ]
     },
     "execution_count": 73,
     "metadata": {},
     "output_type": "execute_result"
    }
   ],
   "source": [
    "df_GE_MAflat = df_GE_MAflat['GE-MAFlat']\n",
    "df_GE_MAflat"
   ]
  },
  {
   "cell_type": "code",
   "execution_count": 74,
   "id": "1d149bb9-8b75-41cc-bf5c-c367c8c3e1a4",
   "metadata": {
    "tags": []
   },
   "outputs": [],
   "source": [
    "df_INTC_Bol = bollingerBands(dfPrices[['INTC']], 148, 3)"
   ]
  },
  {
   "cell_type": "code",
   "execution_count": 75,
   "id": "54508cca-aacf-4ef4-961c-9ed82c91af39",
   "metadata": {
    "tags": []
   },
   "outputs": [],
   "source": [
    "df_INTC_Bol = df_INTC_Bol['INTC-BB']"
   ]
  },
  {
   "cell_type": "code",
   "execution_count": 76,
   "id": "4d610bd1-a5f2-465e-960e-af0b849bc68e",
   "metadata": {
    "tags": []
   },
   "outputs": [
    {
     "data": {
      "text/plain": [
       "Date\n",
       "2000-08-01    NaN\n",
       "2000-08-02   -0.0\n",
       "2000-08-03    0.0\n",
       "2000-08-04   -0.0\n",
       "2000-08-07    0.0\n",
       "             ... \n",
       "2018-12-24   -0.0\n",
       "2018-12-26    0.0\n",
       "2018-12-27    0.0\n",
       "2018-12-28    0.0\n",
       "2018-12-31    0.0\n",
       "Name: INTC-BB, Length: 4633, dtype: float64"
      ]
     },
     "execution_count": 76,
     "metadata": {},
     "output_type": "execute_result"
    }
   ],
   "source": [
    "df_INTC_Bol"
   ]
  },
  {
   "cell_type": "code",
   "execution_count": 77,
   "id": "199502eb-6561-4855-a187-d24062280326",
   "metadata": {
    "tags": []
   },
   "outputs": [],
   "source": [
    "df_PFE_Bol = bollingerBands(dfPrices[['PFE']], 148, 3)"
   ]
  },
  {
   "cell_type": "code",
   "execution_count": 78,
   "id": "4682454f-16b6-42e1-aeac-35b4c04bc42d",
   "metadata": {
    "tags": []
   },
   "outputs": [],
   "source": [
    "df_PFE_Bol = df_PFE_Bol['PFE-BB']"
   ]
  },
  {
   "cell_type": "code",
   "execution_count": 79,
   "id": "d7973734-7dbb-4f43-938b-c20b18622c11",
   "metadata": {
    "tags": []
   },
   "outputs": [
    {
     "data": {
      "text/plain": [
       "Date\n",
       "2000-08-01         NaN\n",
       "2000-08-02    0.000000\n",
       "2000-08-03   -0.000000\n",
       "2000-08-04    0.000000\n",
       "2000-08-07   -0.000000\n",
       "                ...   \n",
       "2018-12-24    0.033466\n",
       "2018-12-26    0.000000\n",
       "2018-12-27    0.000000\n",
       "2018-12-28    0.000000\n",
       "2018-12-31    0.000000\n",
       "Name: PFE-BB, Length: 4633, dtype: float64"
      ]
     },
     "execution_count": 79,
     "metadata": {},
     "output_type": "execute_result"
    }
   ],
   "source": [
    "df_PFE_Bol"
   ]
  },
  {
   "cell_type": "code",
   "execution_count": 80,
   "id": "53902b1c-e09a-435e-8386-c380ad7ea145",
   "metadata": {
    "tags": []
   },
   "outputs": [],
   "source": [
    "df_SPY_MAflat = movingAverageCrossover(dfPrices[['SPY']], 11, 220)"
   ]
  },
  {
   "cell_type": "code",
   "execution_count": 81,
   "id": "bb620b7a-5cc5-494c-8337-d3fa259045e4",
   "metadata": {
    "tags": []
   },
   "outputs": [
    {
     "data": {
      "text/plain": [
       "Date\n",
       "2000-11-10    NaN\n",
       "2000-11-13   -0.0\n",
       "2000-11-14    0.0\n",
       "2000-11-15    0.0\n",
       "2000-11-16   -0.0\n",
       "             ... \n",
       "2018-12-24   -0.0\n",
       "2018-12-26    0.0\n",
       "2018-12-27    0.0\n",
       "2018-12-28   -0.0\n",
       "2018-12-31    0.0\n",
       "Name: SPY-MAFlat, Length: 4561, dtype: float64"
      ]
     },
     "execution_count": 81,
     "metadata": {},
     "output_type": "execute_result"
    }
   ],
   "source": [
    "df_SPY_MAflat = df_SPY_MAflat['SPY-MAFlat']\n",
    "df_SPY_MAflat"
   ]
  },
  {
   "cell_type": "code",
   "execution_count": null,
   "id": "33c015a3-810c-4cbd-9c8d-550ae12d0f1f",
   "metadata": {},
   "outputs": [],
   "source": []
  },
  {
   "cell_type": "code",
   "execution_count": 82,
   "id": "d20ed245-7266-4231-b352-7a2999f2ea7d",
   "metadata": {
    "tags": []
   },
   "outputs": [],
   "source": [
    "df_VBTIX_MAshort = movingAverageCrossover(dfPrices[['VBTIX']], 87, 105)"
   ]
  },
  {
   "cell_type": "code",
   "execution_count": 83,
   "id": "b7e22d29-a4ac-46e8-99f8-1e11ae93c266",
   "metadata": {
    "tags": []
   },
   "outputs": [
    {
     "data": {
      "text/plain": [
       "Date\n",
       "2000-05-31         NaN\n",
       "2000-06-01    0.005271\n",
       "2000-06-02    0.004197\n",
       "2000-06-05    0.003136\n",
       "2000-06-06    0.000000\n",
       "                ...   \n",
       "2018-12-24   -0.001919\n",
       "2018-12-26    0.003842\n",
       "2018-12-27   -0.000962\n",
       "2018-12-28   -0.002880\n",
       "2018-12-31   -0.001916\n",
       "Name: VBTIX-MAShort, Length: 4676, dtype: float64"
      ]
     },
     "execution_count": 83,
     "metadata": {},
     "output_type": "execute_result"
    }
   ],
   "source": [
    "df_VBTIX_MAshort = df_VBTIX_MAshort['VBTIX-MAShort']\n",
    "df_VBTIX_MAshort"
   ]
  },
  {
   "cell_type": "code",
   "execution_count": 84,
   "id": "e7c7d677-1a10-4c1d-b89f-992133066137",
   "metadata": {
    "tags": []
   },
   "outputs": [],
   "source": [
    "df_FBNDX_MAshort = movingAverageCrossover(dfPrices[['FBNDX']], 87, 105)"
   ]
  },
  {
   "cell_type": "code",
   "execution_count": 85,
   "id": "ad6fcfa7-3437-4540-afae-ca473a0ffa61",
   "metadata": {
    "tags": []
   },
   "outputs": [
    {
     "data": {
      "text/plain": [
       "Date\n",
       "2000-05-31         NaN\n",
       "2000-06-01    0.004396\n",
       "2000-06-02    0.004376\n",
       "2000-06-05    0.001455\n",
       "2000-06-06    0.000000\n",
       "                ...   \n",
       "2018-12-24   -0.001303\n",
       "2018-12-26    0.003914\n",
       "2018-12-27    0.002618\n",
       "2018-12-28   -0.003924\n",
       "2018-12-31   -0.001305\n",
       "Name: FBNDX-MAShort, Length: 4676, dtype: float64"
      ]
     },
     "execution_count": 85,
     "metadata": {},
     "output_type": "execute_result"
    }
   ],
   "source": [
    "df_FBNDX_MAshort = df_FBNDX_MAshort['FBNDX-MAShort']\n",
    "df_FBNDX_MAshort"
   ]
  },
  {
   "cell_type": "code",
   "execution_count": 86,
   "id": "0e492aab-408d-4c1c-b7e0-1d19849741ad",
   "metadata": {
    "tags": []
   },
   "outputs": [],
   "source": [
    "df_SPGSCI_MAshort = movingAverageCrossover(dfPrices[['SPGSCI']], 87, 105)"
   ]
  },
  {
   "cell_type": "code",
   "execution_count": 87,
   "id": "4f5a8959-1e21-4358-8a07-a0da3da8d393",
   "metadata": {
    "tags": []
   },
   "outputs": [
    {
     "data": {
      "text/plain": [
       "Date\n",
       "2000-05-31         NaN\n",
       "2000-06-01    0.013318\n",
       "2000-06-02    0.004640\n",
       "2000-06-05   -0.004731\n",
       "2000-06-06   -0.000117\n",
       "                ...   \n",
       "2018-12-24    0.034847\n",
       "2018-12-26   -0.034605\n",
       "2018-12-27    0.016042\n",
       "2018-12-28   -0.002159\n",
       "2018-12-31    0.001747\n",
       "Name: SPGSCI-MAShort, Length: 4676, dtype: float64"
      ]
     },
     "execution_count": 87,
     "metadata": {},
     "output_type": "execute_result"
    }
   ],
   "source": [
    "df_SPGSCI_MAshort = df_SPGSCI_MAshort['SPGSCI-MAShort']\n",
    "df_SPGSCI_MAshort"
   ]
  },
  {
   "cell_type": "code",
   "execution_count": 88,
   "id": "a7b878f7-e969-4e04-aaf2-d20750618257",
   "metadata": {
    "tags": []
   },
   "outputs": [],
   "source": [
    "df_XPT_MAshort = movingAverageCrossover(dfPrices[['XPT']], 87, 105)"
   ]
  },
  {
   "cell_type": "code",
   "execution_count": 89,
   "id": "123e5859-4f40-40f5-9567-0ee091231571",
   "metadata": {
    "tags": []
   },
   "outputs": [
    {
     "data": {
      "text/plain": [
       "Date\n",
       "2000-05-31         NaN\n",
       "2000-06-01    0.009116\n",
       "2000-06-02    0.016202\n",
       "2000-06-05    0.008889\n",
       "2000-06-06    0.007055\n",
       "                ...   \n",
       "2018-12-24   -0.001678\n",
       "2018-12-26    0.014666\n",
       "2018-12-27   -0.000941\n",
       "2018-12-28   -0.007876\n",
       "2018-12-31    0.006557\n",
       "Name: XPT-MAShort, Length: 4676, dtype: float64"
      ]
     },
     "execution_count": 89,
     "metadata": {},
     "output_type": "execute_result"
    }
   ],
   "source": [
    "df_XPT_MAshort = df_XPT_MAshort['XPT-MAShort']\n",
    "df_XPT_MAshort"
   ]
  },
  {
   "cell_type": "code",
   "execution_count": 90,
   "id": "7a5e4f83-c19e-4c4b-b0d2-8e8bcfea0612",
   "metadata": {
    "tags": []
   },
   "outputs": [],
   "source": [
    "df_GBP_MAshort = movingAverageCrossover(dfPrices[['GBP']], 87, 105)"
   ]
  },
  {
   "cell_type": "code",
   "execution_count": 91,
   "id": "3609308f-fac3-46a1-bbe3-391119bddf7c",
   "metadata": {
    "tags": []
   },
   "outputs": [
    {
     "data": {
      "text/plain": [
       "Date\n",
       "2000-05-31         NaN\n",
       "2000-06-01    0.004673\n",
       "2000-06-02   -0.010252\n",
       "2000-06-05   -0.006470\n",
       "2000-06-06   -0.005774\n",
       "                ...   \n",
       "2018-12-24   -0.004812\n",
       "2018-12-26   -0.005762\n",
       "2018-12-27    0.000870\n",
       "2018-12-28    0.004340\n",
       "2018-12-31    0.004322\n",
       "Name: GBP-MAShort, Length: 4676, dtype: float64"
      ]
     },
     "execution_count": 91,
     "metadata": {},
     "output_type": "execute_result"
    }
   ],
   "source": [
    "df_GBP_MAshort = df_GBP_MAshort['GBP-MAShort']\n",
    "df_GBP_MAshort"
   ]
  },
  {
   "cell_type": "code",
   "execution_count": 92,
   "id": "dce8933b-978e-4ac7-9a70-08521c0d9da6",
   "metadata": {
    "tags": []
   },
   "outputs": [],
   "source": [
    "df_CAD_MAshort = movingAverageCrossover(dfPrices[['CAD']], 87, 105)"
   ]
  },
  {
   "cell_type": "code",
   "execution_count": 93,
   "id": "3bfbd657-6e26-4fa6-bfa1-38385a1ca8c8",
   "metadata": {
    "tags": []
   },
   "outputs": [
    {
     "data": {
      "text/plain": [
       "Date\n",
       "2000-05-31         NaN\n",
       "2000-06-01   -0.003883\n",
       "2000-06-02   -0.009164\n",
       "2000-06-05    0.001285\n",
       "2000-06-06   -0.001150\n",
       "                ...   \n",
       "2018-12-24   -0.000368\n",
       "2018-12-26   -0.001693\n",
       "2018-12-27    0.003310\n",
       "2018-12-28    0.001394\n",
       "2018-12-31   -0.000073\n",
       "Name: CAD-MAShort, Length: 4676, dtype: float64"
      ]
     },
     "execution_count": 93,
     "metadata": {},
     "output_type": "execute_result"
    }
   ],
   "source": [
    "df_CAD_MAshort = df_CAD_MAshort['CAD-MAShort']\n",
    "df_CAD_MAshort"
   ]
  },
  {
   "cell_type": "markdown",
   "id": "b13a5b36-0c7a-4e60-9e8e-082f619b7953",
   "metadata": {},
   "source": [
    "### Question 3"
   ]
  },
  {
   "cell_type": "markdown",
   "id": "20cade8b-7528-408b-bebc-9710681be0f6",
   "metadata": {},
   "source": [
    "We have selected the following Instruments and strategies:\n",
    "1. AAPL - Moving Average Crossover Flat\n",
    "2. EXC - Moving Average Crossover Flat\n",
    "3. GE - Moving Average Crossover Flat\n",
    "4. PFE - Bollinger Band\n",
    "5. SPY - Moving Average Crossover Flat\n",
    "6. VBITX - Moving Average Crossover Short\n",
    "7. XPT - Moving Average Crossover Short\n",
    "8. GBP - Moving Average Crossover Short\n",
    "\n",
    "We used the following strategies based oin the performance measures of sharpe ratio that we calculated for each of the equity and their optimal windows for the same. We also calculated their Sharpe ratios against the optimal windows of the others in the group and found that the equities perform well when we used the following combination:\n",
    "##### For Equity:\n",
    "1. MA CrossOver:\n",
    "i. Fast Window: 11\n",
    "ii. Slow Window: 220\n",
    "2. Bollinger Band: \n",
    "i. STDDEV:3\n",
    "ii. LookBack Window:148\n",
    "\n",
    "##### For Income, Commodity and Currency\n",
    "\n",
    "1. MA CrossOver FLAT:\n",
    "i. Fast Window: 87\n",
    "ii. Slow Window: 105\n"
   ]
  },
  {
   "cell_type": "markdown",
   "id": "a8510511-e9a6-4597-866c-8957ebc176a2",
   "metadata": {
    "tags": []
   },
   "source": [
    "### Question 4"
   ]
  },
  {
   "cell_type": "code",
   "execution_count": 94,
   "id": "436c5233-b164-4a88-8233-76644b43c088",
   "metadata": {
    "tags": []
   },
   "outputs": [
    {
     "name": "stdout",
     "output_type": "stream",
     "text": [
      "            AAPL-MAFlat  EXC-MAFlat  GE-MAFlat    PFE-BB  SPY-MAFlat  \\\n",
      "Date                                                                   \n",
      "2000-05-31          NaN         NaN        NaN       NaN         NaN   \n",
      "2000-06-01          NaN         NaN        NaN       NaN         NaN   \n",
      "2000-06-02          NaN         NaN        NaN       NaN         NaN   \n",
      "2000-06-05          NaN         NaN        NaN       NaN         NaN   \n",
      "2000-06-06          NaN         NaN        NaN       NaN         NaN   \n",
      "...                 ...         ...        ...       ...         ...   \n",
      "2018-12-24         -0.0   -0.045929       -0.0  0.033466        -0.0   \n",
      "2018-12-26          0.0    0.014721        0.0  0.000000         0.0   \n",
      "2018-12-27         -0.0    0.006722       -0.0  0.000000         0.0   \n",
      "2018-12-28          0.0   -0.000894        0.0  0.000000        -0.0   \n",
      "2018-12-31          0.0    0.008014        0.0  0.000000         0.0   \n",
      "\n",
      "            VBTIX-MAShort  XPT-MAShort  GBP-MAShort  \n",
      "Date                                                 \n",
      "2000-05-31            NaN          NaN          NaN  \n",
      "2000-06-01       0.005271     0.009116     0.004673  \n",
      "2000-06-02       0.004197     0.016202    -0.010252  \n",
      "2000-06-05       0.003136     0.008889    -0.006470  \n",
      "2000-06-06       0.000000     0.007055    -0.005774  \n",
      "...                   ...          ...          ...  \n",
      "2018-12-24      -0.001919    -0.001678    -0.004812  \n",
      "2018-12-26       0.003842     0.014666    -0.005762  \n",
      "2018-12-27      -0.000962    -0.000941     0.000870  \n",
      "2018-12-28      -0.002880    -0.007876     0.004340  \n",
      "2018-12-31      -0.001916     0.006557     0.004322  \n",
      "\n",
      "[4676 rows x 8 columns]\n"
     ]
    }
   ],
   "source": [
    "dfs_to_merge = [\n",
    "    df_AAPL_MAflat,\n",
    "    df_EXC_MAflat,\n",
    "    df_GE_MAflat,\n",
    "    df_PFE_Bol,\n",
    "    df_SPY_MAflat,\n",
    "    df_VBTIX_MAshort,\n",
    "    df_XPT_MAshort,\n",
    "    df_GBP_MAshort,\n",
    "]\n",
    "\n",
    "# Concatenate DataFrames along columns axis\n",
    "merged_df = pd.concat(dfs_to_merge, axis=1)\n",
    "\n",
    "# Print or use the merged DataFrame as needed\n",
    "print(merged_df)"
   ]
  },
  {
   "cell_type": "code",
   "execution_count": 95,
   "id": "1689a16a-9c16-4c24-82d5-cd8d8db492df",
   "metadata": {
    "tags": []
   },
   "outputs": [
    {
     "data": {
      "text/html": [
       "<div>\n",
       "<style scoped>\n",
       "    .dataframe tbody tr th:only-of-type {\n",
       "        vertical-align: middle;\n",
       "    }\n",
       "\n",
       "    .dataframe tbody tr th {\n",
       "        vertical-align: top;\n",
       "    }\n",
       "\n",
       "    .dataframe thead th {\n",
       "        text-align: right;\n",
       "    }\n",
       "</style>\n",
       "<table border=\"1\" class=\"dataframe\">\n",
       "  <thead>\n",
       "    <tr style=\"text-align: right;\">\n",
       "      <th></th>\n",
       "      <th>AAPL-MAFlat</th>\n",
       "      <th>EXC-MAFlat</th>\n",
       "      <th>GE-MAFlat</th>\n",
       "      <th>PFE-BB</th>\n",
       "      <th>SPY-MAFlat</th>\n",
       "      <th>VBTIX-MAShort</th>\n",
       "      <th>XPT-MAShort</th>\n",
       "      <th>GBP-MAShort</th>\n",
       "    </tr>\n",
       "    <tr>\n",
       "      <th>Date</th>\n",
       "      <th></th>\n",
       "      <th></th>\n",
       "      <th></th>\n",
       "      <th></th>\n",
       "      <th></th>\n",
       "      <th></th>\n",
       "      <th></th>\n",
       "      <th></th>\n",
       "    </tr>\n",
       "  </thead>\n",
       "  <tbody>\n",
       "    <tr>\n",
       "      <th>2000-05-31</th>\n",
       "      <td>NaN</td>\n",
       "      <td>NaN</td>\n",
       "      <td>NaN</td>\n",
       "      <td>NaN</td>\n",
       "      <td>NaN</td>\n",
       "      <td>NaN</td>\n",
       "      <td>NaN</td>\n",
       "      <td>NaN</td>\n",
       "    </tr>\n",
       "    <tr>\n",
       "      <th>2000-06-01</th>\n",
       "      <td>NaN</td>\n",
       "      <td>NaN</td>\n",
       "      <td>NaN</td>\n",
       "      <td>NaN</td>\n",
       "      <td>NaN</td>\n",
       "      <td>0.005271</td>\n",
       "      <td>0.009116</td>\n",
       "      <td>0.004673</td>\n",
       "    </tr>\n",
       "    <tr>\n",
       "      <th>2000-06-02</th>\n",
       "      <td>NaN</td>\n",
       "      <td>NaN</td>\n",
       "      <td>NaN</td>\n",
       "      <td>NaN</td>\n",
       "      <td>NaN</td>\n",
       "      <td>0.004197</td>\n",
       "      <td>0.016202</td>\n",
       "      <td>-0.010252</td>\n",
       "    </tr>\n",
       "    <tr>\n",
       "      <th>2000-06-05</th>\n",
       "      <td>NaN</td>\n",
       "      <td>NaN</td>\n",
       "      <td>NaN</td>\n",
       "      <td>NaN</td>\n",
       "      <td>NaN</td>\n",
       "      <td>0.003136</td>\n",
       "      <td>0.008889</td>\n",
       "      <td>-0.006470</td>\n",
       "    </tr>\n",
       "    <tr>\n",
       "      <th>2000-06-06</th>\n",
       "      <td>NaN</td>\n",
       "      <td>NaN</td>\n",
       "      <td>NaN</td>\n",
       "      <td>NaN</td>\n",
       "      <td>NaN</td>\n",
       "      <td>0.000000</td>\n",
       "      <td>0.007055</td>\n",
       "      <td>-0.005774</td>\n",
       "    </tr>\n",
       "    <tr>\n",
       "      <th>...</th>\n",
       "      <td>...</td>\n",
       "      <td>...</td>\n",
       "      <td>...</td>\n",
       "      <td>...</td>\n",
       "      <td>...</td>\n",
       "      <td>...</td>\n",
       "      <td>...</td>\n",
       "      <td>...</td>\n",
       "    </tr>\n",
       "    <tr>\n",
       "      <th>2018-12-24</th>\n",
       "      <td>-0.0</td>\n",
       "      <td>-0.045929</td>\n",
       "      <td>-0.0</td>\n",
       "      <td>0.033466</td>\n",
       "      <td>-0.0</td>\n",
       "      <td>-0.001919</td>\n",
       "      <td>-0.001678</td>\n",
       "      <td>-0.004812</td>\n",
       "    </tr>\n",
       "    <tr>\n",
       "      <th>2018-12-26</th>\n",
       "      <td>0.0</td>\n",
       "      <td>0.014721</td>\n",
       "      <td>0.0</td>\n",
       "      <td>0.000000</td>\n",
       "      <td>0.0</td>\n",
       "      <td>0.003842</td>\n",
       "      <td>0.014666</td>\n",
       "      <td>-0.005762</td>\n",
       "    </tr>\n",
       "    <tr>\n",
       "      <th>2018-12-27</th>\n",
       "      <td>-0.0</td>\n",
       "      <td>0.006722</td>\n",
       "      <td>-0.0</td>\n",
       "      <td>0.000000</td>\n",
       "      <td>0.0</td>\n",
       "      <td>-0.000962</td>\n",
       "      <td>-0.000941</td>\n",
       "      <td>0.000870</td>\n",
       "    </tr>\n",
       "    <tr>\n",
       "      <th>2018-12-28</th>\n",
       "      <td>0.0</td>\n",
       "      <td>-0.000894</td>\n",
       "      <td>0.0</td>\n",
       "      <td>0.000000</td>\n",
       "      <td>-0.0</td>\n",
       "      <td>-0.002880</td>\n",
       "      <td>-0.007876</td>\n",
       "      <td>0.004340</td>\n",
       "    </tr>\n",
       "    <tr>\n",
       "      <th>2018-12-31</th>\n",
       "      <td>0.0</td>\n",
       "      <td>0.008014</td>\n",
       "      <td>0.0</td>\n",
       "      <td>0.000000</td>\n",
       "      <td>0.0</td>\n",
       "      <td>-0.001916</td>\n",
       "      <td>0.006557</td>\n",
       "      <td>0.004322</td>\n",
       "    </tr>\n",
       "  </tbody>\n",
       "</table>\n",
       "<p>4676 rows × 8 columns</p>\n",
       "</div>"
      ],
      "text/plain": [
       "            AAPL-MAFlat  EXC-MAFlat  GE-MAFlat    PFE-BB  SPY-MAFlat  \\\n",
       "Date                                                                   \n",
       "2000-05-31          NaN         NaN        NaN       NaN         NaN   \n",
       "2000-06-01          NaN         NaN        NaN       NaN         NaN   \n",
       "2000-06-02          NaN         NaN        NaN       NaN         NaN   \n",
       "2000-06-05          NaN         NaN        NaN       NaN         NaN   \n",
       "2000-06-06          NaN         NaN        NaN       NaN         NaN   \n",
       "...                 ...         ...        ...       ...         ...   \n",
       "2018-12-24         -0.0   -0.045929       -0.0  0.033466        -0.0   \n",
       "2018-12-26          0.0    0.014721        0.0  0.000000         0.0   \n",
       "2018-12-27         -0.0    0.006722       -0.0  0.000000         0.0   \n",
       "2018-12-28          0.0   -0.000894        0.0  0.000000        -0.0   \n",
       "2018-12-31          0.0    0.008014        0.0  0.000000         0.0   \n",
       "\n",
       "            VBTIX-MAShort  XPT-MAShort  GBP-MAShort  \n",
       "Date                                                 \n",
       "2000-05-31            NaN          NaN          NaN  \n",
       "2000-06-01       0.005271     0.009116     0.004673  \n",
       "2000-06-02       0.004197     0.016202    -0.010252  \n",
       "2000-06-05       0.003136     0.008889    -0.006470  \n",
       "2000-06-06       0.000000     0.007055    -0.005774  \n",
       "...                   ...          ...          ...  \n",
       "2018-12-24      -0.001919    -0.001678    -0.004812  \n",
       "2018-12-26       0.003842     0.014666    -0.005762  \n",
       "2018-12-27      -0.000962    -0.000941     0.000870  \n",
       "2018-12-28      -0.002880    -0.007876     0.004340  \n",
       "2018-12-31      -0.001916     0.006557     0.004322  \n",
       "\n",
       "[4676 rows x 8 columns]"
      ]
     },
     "execution_count": 95,
     "metadata": {},
     "output_type": "execute_result"
    }
   ],
   "source": [
    "merged_df"
   ]
  },
  {
   "cell_type": "code",
   "execution_count": 96,
   "id": "d1ae6476-a8f8-489c-a694-96a578e7549b",
   "metadata": {
    "tags": []
   },
   "outputs": [],
   "source": [
    "myPortfolioColumns = ['AAPL-MAFlat', 'EXC-MAFlat', 'GE-MAFlat', 'PFE-BB', 'SPY-MAFlat', 'VBTIX-MAShort', 'XPT-MAShort', 'GBP-MAShort']"
   ]
  },
  {
   "cell_type": "markdown",
   "id": "16b50b10-cbf5-4649-bc52-798f2d9d5304",
   "metadata": {},
   "source": [
    "### Question 5 "
   ]
  },
  {
   "cell_type": "code",
   "execution_count": 97,
   "id": "4a6d1122-a01c-47b6-9972-cf1197dea9a4",
   "metadata": {
    "tags": []
   },
   "outputs": [
    {
     "data": {
      "text/html": [
       "<div>\n",
       "<style scoped>\n",
       "    .dataframe tbody tr th:only-of-type {\n",
       "        vertical-align: middle;\n",
       "    }\n",
       "\n",
       "    .dataframe tbody tr th {\n",
       "        vertical-align: top;\n",
       "    }\n",
       "\n",
       "    .dataframe thead th {\n",
       "        text-align: right;\n",
       "    }\n",
       "</style>\n",
       "<table border=\"1\" class=\"dataframe\">\n",
       "  <thead>\n",
       "    <tr style=\"text-align: right;\">\n",
       "      <th></th>\n",
       "      <th>AAPL-MAFlat</th>\n",
       "      <th>EXC-MAFlat</th>\n",
       "      <th>GE-MAFlat</th>\n",
       "      <th>PFE-BB</th>\n",
       "      <th>SPY-MAFlat</th>\n",
       "      <th>VBTIX-MAShort</th>\n",
       "      <th>XPT-MAShort</th>\n",
       "      <th>GBP-MAShort</th>\n",
       "    </tr>\n",
       "  </thead>\n",
       "  <tbody>\n",
       "    <tr>\n",
       "      <th>AAPL-MAFlat</th>\n",
       "      <td>1.000000</td>\n",
       "      <td>0.122979</td>\n",
       "      <td>0.207469</td>\n",
       "      <td>0.013677</td>\n",
       "      <td>0.391681</td>\n",
       "      <td>-0.039695</td>\n",
       "      <td>0.031420</td>\n",
       "      <td>0.008946</td>\n",
       "    </tr>\n",
       "    <tr>\n",
       "      <th>EXC-MAFlat</th>\n",
       "      <td>0.122979</td>\n",
       "      <td>1.000000</td>\n",
       "      <td>0.130308</td>\n",
       "      <td>0.037218</td>\n",
       "      <td>0.247031</td>\n",
       "      <td>-0.044239</td>\n",
       "      <td>0.024974</td>\n",
       "      <td>-0.024509</td>\n",
       "    </tr>\n",
       "    <tr>\n",
       "      <th>GE-MAFlat</th>\n",
       "      <td>0.207469</td>\n",
       "      <td>0.130308</td>\n",
       "      <td>1.000000</td>\n",
       "      <td>0.005672</td>\n",
       "      <td>0.547739</td>\n",
       "      <td>-0.013908</td>\n",
       "      <td>0.062976</td>\n",
       "      <td>-0.004116</td>\n",
       "    </tr>\n",
       "    <tr>\n",
       "      <th>PFE-BB</th>\n",
       "      <td>0.013677</td>\n",
       "      <td>0.037218</td>\n",
       "      <td>0.005672</td>\n",
       "      <td>1.000000</td>\n",
       "      <td>-0.017939</td>\n",
       "      <td>-0.016914</td>\n",
       "      <td>-0.081534</td>\n",
       "      <td>-0.089045</td>\n",
       "    </tr>\n",
       "    <tr>\n",
       "      <th>SPY-MAFlat</th>\n",
       "      <td>0.391681</td>\n",
       "      <td>0.247031</td>\n",
       "      <td>0.547739</td>\n",
       "      <td>-0.017939</td>\n",
       "      <td>1.000000</td>\n",
       "      <td>-0.049282</td>\n",
       "      <td>0.070650</td>\n",
       "      <td>0.009663</td>\n",
       "    </tr>\n",
       "    <tr>\n",
       "      <th>VBTIX-MAShort</th>\n",
       "      <td>-0.039695</td>\n",
       "      <td>-0.044239</td>\n",
       "      <td>-0.013908</td>\n",
       "      <td>-0.016914</td>\n",
       "      <td>-0.049282</td>\n",
       "      <td>1.000000</td>\n",
       "      <td>-0.004048</td>\n",
       "      <td>0.013618</td>\n",
       "    </tr>\n",
       "    <tr>\n",
       "      <th>XPT-MAShort</th>\n",
       "      <td>0.031420</td>\n",
       "      <td>0.024974</td>\n",
       "      <td>0.062976</td>\n",
       "      <td>-0.081534</td>\n",
       "      <td>0.070650</td>\n",
       "      <td>-0.004048</td>\n",
       "      <td>1.000000</td>\n",
       "      <td>0.122105</td>\n",
       "    </tr>\n",
       "    <tr>\n",
       "      <th>GBP-MAShort</th>\n",
       "      <td>0.008946</td>\n",
       "      <td>-0.024509</td>\n",
       "      <td>-0.004116</td>\n",
       "      <td>-0.089045</td>\n",
       "      <td>0.009663</td>\n",
       "      <td>0.013618</td>\n",
       "      <td>0.122105</td>\n",
       "      <td>1.000000</td>\n",
       "    </tr>\n",
       "  </tbody>\n",
       "</table>\n",
       "</div>"
      ],
      "text/plain": [
       "               AAPL-MAFlat  EXC-MAFlat  GE-MAFlat    PFE-BB  SPY-MAFlat  \\\n",
       "AAPL-MAFlat       1.000000    0.122979   0.207469  0.013677    0.391681   \n",
       "EXC-MAFlat        0.122979    1.000000   0.130308  0.037218    0.247031   \n",
       "GE-MAFlat         0.207469    0.130308   1.000000  0.005672    0.547739   \n",
       "PFE-BB            0.013677    0.037218   0.005672  1.000000   -0.017939   \n",
       "SPY-MAFlat        0.391681    0.247031   0.547739 -0.017939    1.000000   \n",
       "VBTIX-MAShort    -0.039695   -0.044239  -0.013908 -0.016914   -0.049282   \n",
       "XPT-MAShort       0.031420    0.024974   0.062976 -0.081534    0.070650   \n",
       "GBP-MAShort       0.008946   -0.024509  -0.004116 -0.089045    0.009663   \n",
       "\n",
       "               VBTIX-MAShort  XPT-MAShort  GBP-MAShort  \n",
       "AAPL-MAFlat        -0.039695     0.031420     0.008946  \n",
       "EXC-MAFlat         -0.044239     0.024974    -0.024509  \n",
       "GE-MAFlat          -0.013908     0.062976    -0.004116  \n",
       "PFE-BB             -0.016914    -0.081534    -0.089045  \n",
       "SPY-MAFlat         -0.049282     0.070650     0.009663  \n",
       "VBTIX-MAShort       1.000000    -0.004048     0.013618  \n",
       "XPT-MAShort        -0.004048     1.000000     0.122105  \n",
       "GBP-MAShort         0.013618     0.122105     1.000000  "
      ]
     },
     "execution_count": 97,
     "metadata": {},
     "output_type": "execute_result"
    }
   ],
   "source": [
    "merged_df.corr()"
   ]
  },
  {
   "cell_type": "markdown",
   "id": "f8a0ee9a-1655-4d2d-9a88-05d972e3876a",
   "metadata": {},
   "source": [
    "Answer:\n",
    "\n",
    "We can infer some of the following from the correlation:\n",
    "\n",
    "AAPL-MAFlat and SPY-MAFlat (0.391681): There is a moderate positive correlation between the returns of AAPL-MAFlat and SPY-MAFlat. This suggests that they tend to move somewhat in the same direction.\n",
    "\n",
    "EXC-MAFlat and GE-MAFlat (0.130308): There is a low positive correlation between the returns of EXC-MAFlat and GE-MAFlat.\n",
    "\n",
    "SPY-MAFlat and GE-MAFlat (0.547739): There is a relatively strong positive correlation between the returns of SPY-MAFlat and GE-MAFlat.\n",
    "\n",
    "PFE-BB and SPY-MAFlat (-0.017939): There is a very weak negative correlation between the returns of PFE-BB and SPY-MAFlat.\n",
    "\n",
    "VBTIX-MAShort and SPY-MAFlat (-0.049282): There is a very weak negative correlation between the returns of VBTIX-MAShort and SPY-MAFlat.\n",
    "\n",
    "XPT-MAShort and GBP-MAShort (0.122105): There is a moderate positive correlation between the returns of XPT-MAShort and GBP-MAShort.\n",
    "\n"
   ]
  },
  {
   "cell_type": "markdown",
   "id": "359644d2-d457-4fae-8b29-3f763d9acbad",
   "metadata": {},
   "source": [
    "### Question 6"
   ]
  },
  {
   "cell_type": "code",
   "execution_count": 98,
   "id": "082cc110-35ca-4cc0-99e3-053802693443",
   "metadata": {
    "tags": []
   },
   "outputs": [
    {
     "name": "stdout",
     "output_type": "stream",
     "text": [
      "Annualized Sharpe Ratio of Equal-Weighted Portfolio: 1.117827230629002\n"
     ]
    }
   ],
   "source": [
    "# Calculate equal weights\n",
    "num_strategies = 8\n",
    "weights = np.ones(num_strategies) / num_strategies\n",
    "\n",
    "# Calculate portfolio returns\n",
    "portfolio_returns = merged_df.dot(weights)\n",
    "\n",
    "# Calculate portfolio volatility (standard deviation)\n",
    "portfolio_volatility = portfolio_returns.std()\n",
    "\n",
    "# Calculate annualized Sharpe ratio (assuming 252 trading days in a year)\n",
    "annualized_sharpe_ratio = np.sqrt(260) * (portfolio_returns.mean() / portfolio_volatility)\n",
    "\n",
    "print(\"Annualized Sharpe Ratio of Equal-Weighted Portfolio:\", annualized_sharpe_ratio)\n"
   ]
  },
  {
   "cell_type": "markdown",
   "id": "196799f1-f665-4d70-9677-ef66280c4ce0",
   "metadata": {},
   "source": []
  },
  {
   "cell_type": "markdown",
   "id": "f905d0dd-45af-48bc-bb52-e4c67c5f658e",
   "metadata": {},
   "source": [
    "### Question 7"
   ]
  },
  {
   "cell_type": "code",
   "execution_count": 99,
   "id": "e186816b-4aaa-480b-8bda-3cb97562b9ed",
   "metadata": {
    "tags": []
   },
   "outputs": [],
   "source": [
    "num_paths = 5000\n",
    "annualization_factor = 260\n",
    "\n",
    "rng = np.random.default_rng(seed=64)\n",
    "\n",
    "# Initialize lists to store returns and risks for each path\n",
    "portfolio_returns = []\n",
    "portfolio_risks = []\n",
    "sharpe_ratios_1 = []  # Create a list to store Sharpe ratios\n",
    "wts_df = []\n",
    "for _ in range(num_paths):\n",
    "    wts = rng.random(8)\n",
    "    wts /= np.sum(wts)  # Normalize weights to add up to 100%\n",
    "    wts_df.append(wts)\n",
    "\n",
    "    portfolio_return = annualization_factor * np.dot(wts, merged_df.mean().T)\n",
    "    portfolio_risk = np.sqrt(annualization_factor) * np.sqrt(np.dot(np.dot(wts, merged_df.cov()), wts.T))\n",
    "    \n",
    "    # Calculate Sharpe ratio for this path\n",
    "    sharpe_ratio = portfolio_return / portfolio_risk\n",
    "\n",
    "    portfolio_returns.append(portfolio_return)\n",
    "    portfolio_risks.append(portfolio_risk)\n",
    "    sharpe_ratios_1.append(sharpe_ratio)  # Store Sharpe ratio in the list\n",
    "\n",
    "# Create a DataFrame to store the results\n",
    "results_df = pd.DataFrame({'Return': portfolio_returns, 'Risk': portfolio_risks, 'Sharpe Ratio': sharpe_ratios_1})"
   ]
  },
  {
   "cell_type": "code",
   "execution_count": 100,
   "id": "852ee815-0f6e-4fda-82c4-0f503af4759d",
   "metadata": {},
   "outputs": [],
   "source": [
    "# wts_df"
   ]
  },
  {
   "cell_type": "markdown",
   "id": "90482914-d6e3-4e6b-8bda-49eaf2c15105",
   "metadata": {},
   "source": [
    "### Question 8"
   ]
  },
  {
   "cell_type": "code",
   "execution_count": 101,
   "id": "1ceb3a3c-8d7d-4a69-8ce8-6a1b85767e66",
   "metadata": {
    "tags": []
   },
   "outputs": [
    {
     "data": {
      "image/png": "[encoded data removed]",
      "text/plain": [
       "<Figure size 1200x800 with 2 Axes>"
      ]
     },
     "metadata": {},
     "output_type": "display_data"
    }
   ],
   "source": [
    "plt.figure(figsize=aspect_ratio)\n",
    "ax = plt.subplot()\n",
    "scatter = plt.scatter(portfolio_risks, portfolio_returns, c = pd.DataFrame(np.array(portfolio_returns)/np.array(portfolio_risks)), marker='o', cmap='coolwarm', alpha=0.5)\n",
    "ax.xaxis.set_major_formatter(mtick.PercentFormatter(xmax=1.0, decimals=0))\n",
    "ax.yaxis.set_major_formatter(mtick.PercentFormatter(xmax=1.0, decimals=0))\n",
    "plt.title('Risk/Return Scatter Plot with Sharpe Ratio Color Coding')\n",
    "plt.xlabel('Portfolio Risk')\n",
    "plt.ylabel('Portfolio Return')\n",
    "colorbar = plt.colorbar(scatter, label='Sharpe Ratio', cmap='coolwarm')"
   ]
  },
  {
   "cell_type": "markdown",
   "id": "9c9fbb4b-bb73-4464-b86d-f13e2338f5c3",
   "metadata": {},
   "source": [
    "### Question 9"
   ]
  },
  {
   "cell_type": "code",
   "execution_count": 102,
   "id": "1781521f-a237-4c9f-889c-3170ec8124c9",
   "metadata": {
    "tags": []
   },
   "outputs": [],
   "source": [
    "min_vol_index = np.argmin(portfolio_risks)\n",
    "max_sharpe_index = np.argmax(np.array(portfolio_returns)/np.array(portfolio_risks))\n",
    "sharpe_array = np.array(portfolio_returns)/np.array(portfolio_risks)"
   ]
  },
  {
   "cell_type": "code",
   "execution_count": 103,
   "id": "de5c2d54-3657-46dd-ac6e-e2c776b2b06c",
   "metadata": {
    "tags": []
   },
   "outputs": [
    {
     "data": {
      "text/plain": [
       "<matplotlib.collections.PathCollection at 0x175886450>"
      ]
     },
     "execution_count": 103,
     "metadata": {},
     "output_type": "execute_result"
    },
    {
     "data": {
      "image/png": "[encoded data removed]",
      "text/plain": [
       "<Figure size 1200x800 with 2 Axes>"
      ]
     },
     "metadata": {},
     "output_type": "display_data"
    }
   ],
   "source": [
    "plt.figure(figsize=aspect_ratio)\n",
    "ax = plt.subplot()\n",
    "scatter = plt.scatter(portfolio_risks, portfolio_returns, c = pd.DataFrame(np.array(portfolio_returns)/np.array(portfolio_risks)), marker='o', cmap='coolwarm', alpha=0.5)\n",
    "ax.xaxis.set_major_formatter(mtick.PercentFormatter(xmax=1.0, decimals=0))\n",
    "ax.yaxis.set_major_formatter(mtick.PercentFormatter(xmax=1.0, decimals=0))\n",
    "plt.title('Risk/Return Scatter Plot with Sharpe Ratio Color Coding')\n",
    "plt.xlabel('Portfolio Risk')\n",
    "plt.ylabel('Portfolio Return')\n",
    "colorbar = plt.colorbar(scatter, label='Sharpe Ratio', cmap='coolwarm')\n",
    "legend_text = [\n",
    "    f'Min Vol Portfolio: Risk={portfolio_risks[min_vol_index]:.2%}, Return={portfolio_returns[min_vol_index]:.2%}, Sharpe={sharpe_array[min_vol_index]:.2f}',\n",
    "    #f'Max Sharpe Portfolio: Risk={portfolio_risks[max_sharpe_index]:.2%}, Return={portfolio_returns[max_sharpe_index]:.2%}, Sharpe={sharpe_array[max_sharpe_index]:.2f}'\n",
    "]\n",
    "\n",
    "plt.legend(legend_text)\n",
    "\n",
    "\n",
    "plt.scatter(portfolio_risks[min_vol_index], portfolio_returns[min_vol_index], marker='*', s=100, color='blue')\n",
    "#plt.scatter(portfolio_risks[max_sharpe_index], portfolio_returns[max_sharpe_index], marker='*', s=100, color='red')"
   ]
  },
  {
   "cell_type": "code",
   "execution_count": 104,
   "id": "9dbcb502-49ae-4f09-8f46-3f30216ec4fe",
   "metadata": {
    "tags": []
   },
   "outputs": [],
   "source": [
    "weights_min_vol = wts_df[np.argmin(portfolio_risks)]"
   ]
  },
  {
   "cell_type": "code",
   "execution_count": 105,
   "id": "5bfbd8bf-d2fe-4fa2-a310-cf4c88fec67b",
   "metadata": {
    "tags": []
   },
   "outputs": [],
   "source": [
    "# weights_min_vol = ['AAPL-MAFlat', 'EXC-MAFlat', 'GE-MAFlat', 'PFE-BB', 'SPY-MAFlat', 'VBTIX-MAShort', 'XPT-MAShort', 'GBP-MAShort']\n",
    "\n",
    "\n",
    "# Creating a horizontal DataFrame\n",
    "weights_min_vol_df = pd.DataFrame([weights_min_vol], columns=['AAPL-MAFlat', 'EXC-MAFlat', 'GE-MAFlat', 'PFE-BB', 'SPY-MAFlat', 'VBTIX-MAShort', 'XPT-MAShort', 'GBP-MAShort'])\n",
    "\n",
    "\n",
    "# weights_min_vol_df = pd.DataFrame({'weights_min_vol': weights_min_vol})\n"
   ]
  },
  {
   "cell_type": "code",
   "execution_count": 106,
   "id": "82308af9-25ea-4be3-858a-601b7f374dbc",
   "metadata": {
    "tags": []
   },
   "outputs": [
    {
     "data": {
      "text/html": [
       "<div>\n",
       "<style scoped>\n",
       "    .dataframe tbody tr th:only-of-type {\n",
       "        vertical-align: middle;\n",
       "    }\n",
       "\n",
       "    .dataframe tbody tr th {\n",
       "        vertical-align: top;\n",
       "    }\n",
       "\n",
       "    .dataframe thead th {\n",
       "        text-align: right;\n",
       "    }\n",
       "</style>\n",
       "<table border=\"1\" class=\"dataframe\">\n",
       "  <thead>\n",
       "    <tr style=\"text-align: right;\">\n",
       "      <th></th>\n",
       "      <th>AAPL-MAFlat</th>\n",
       "      <th>EXC-MAFlat</th>\n",
       "      <th>GE-MAFlat</th>\n",
       "      <th>PFE-BB</th>\n",
       "      <th>SPY-MAFlat</th>\n",
       "      <th>VBTIX-MAShort</th>\n",
       "      <th>XPT-MAShort</th>\n",
       "      <th>GBP-MAShort</th>\n",
       "    </tr>\n",
       "  </thead>\n",
       "  <tbody>\n",
       "    <tr>\n",
       "      <th>0</th>\n",
       "      <td>0.033531</td>\n",
       "      <td>0.065368</td>\n",
       "      <td>0.127068</td>\n",
       "      <td>0.146145</td>\n",
       "      <td>0.04798</td>\n",
       "      <td>0.514682</td>\n",
       "      <td>0.0519</td>\n",
       "      <td>0.013325</td>\n",
       "    </tr>\n",
       "  </tbody>\n",
       "</table>\n",
       "</div>"
      ],
      "text/plain": [
       "   AAPL-MAFlat  EXC-MAFlat  GE-MAFlat    PFE-BB  SPY-MAFlat  VBTIX-MAShort  \\\n",
       "0     0.033531    0.065368   0.127068  0.146145     0.04798       0.514682   \n",
       "\n",
       "   XPT-MAShort  GBP-MAShort  \n",
       "0       0.0519     0.013325  "
      ]
     },
     "execution_count": 106,
     "metadata": {},
     "output_type": "execute_result"
    }
   ],
   "source": [
    "weights_min_vol_df"
   ]
  },
  {
   "cell_type": "markdown",
   "id": "f46b20ed-f720-44b6-b978-ec4b512e8a22",
   "metadata": {},
   "source": [
    "Inference:\n",
    "The portfolio exhibits diversification, with weights spread across multiple assets. Diversification is a risk management strategy that helps reduce exposure to individual asset volatility. The asset with the highest weight is VBTIX-MAShort, suggesting it has the most substantial influence on the portfolio's minimum volatility.While VBTIX-MAShort has the highest weight, the portfolio is diversified, with allocations across various assets. This diversification helps spread risk and minimize the impact of a single asset's poor performance."
   ]
  },
  {
   "cell_type": "markdown",
   "id": "1882f9e1-3ce6-4149-8f5b-60d488fa5ca8",
   "metadata": {},
   "source": [
    "### Question 10"
   ]
  },
  {
   "cell_type": "code",
   "execution_count": 107,
   "id": "90544126-d3a1-4c9d-808a-feae92724128",
   "metadata": {
    "tags": []
   },
   "outputs": [
    {
     "data": {
      "text/plain": [
       "<matplotlib.collections.PathCollection at 0x169e01c50>"
      ]
     },
     "execution_count": 107,
     "metadata": {},
     "output_type": "execute_result"
    },
    {
     "data": {
      "image/png": "[encoded data removed]",
      "text/plain": [
       "<Figure size 1200x800 with 2 Axes>"
      ]
     },
     "metadata": {},
     "output_type": "display_data"
    }
   ],
   "source": [
    "plt.figure(figsize=aspect_ratio)\n",
    "ax = plt.subplot()\n",
    "scatter = plt.scatter(portfolio_risks, portfolio_returns, c = pd.DataFrame(np.array(portfolio_returns)/np.array(portfolio_risks)), marker='o', cmap='coolwarm', alpha=0.5)\n",
    "ax.xaxis.set_major_formatter(mtick.PercentFormatter(xmax=1.0, decimals=0))\n",
    "ax.yaxis.set_major_formatter(mtick.PercentFormatter(xmax=1.0, decimals=0))\n",
    "plt.title('Risk/Return Scatter Plot with Sharpe Ratio Color Coding')\n",
    "plt.xlabel('Portfolio Risk')\n",
    "plt.ylabel('Portfolio Return')\n",
    "colorbar = plt.colorbar(scatter, label='Sharpe Ratio', cmap='coolwarm')\n",
    "\n",
    "legend_text = [\n",
    "    #f'Min Vol Portfolio: Risk={portfolio_risks[min_vol_index]:.2%}, Return={portfolio_returns[min_vol_index]:.2%}, Sharpe={sharpe_array[min_vol_index]:.2f}',\n",
    "    f'Max Sharpe Portfolio: Risk={portfolio_risks[max_sharpe_index]:.2%}, Return={portfolio_returns[max_sharpe_index]:.2%}, Sharpe={sharpe_array[max_sharpe_index]:.2f}'\n",
    "]\n",
    "\n",
    "plt.legend(legend_text)\n",
    "\n",
    "#plt.scatter(portfolio_risks[min_vol_index], portfolio_returns[min_vol_index], marker='*', s=100, color='blue')\n",
    "plt.scatter(portfolio_risks[max_sharpe_index], portfolio_returns[max_sharpe_index], marker='*', s=100, color='red')"
   ]
  },
  {
   "cell_type": "code",
   "execution_count": 108,
   "id": "968b22c3-19bb-47f9-beba-ff2db2363925",
   "metadata": {
    "tags": []
   },
   "outputs": [],
   "source": [
    "# wts_max = wts_df[2490]"
   ]
  },
  {
   "cell_type": "markdown",
   "id": "472ada3f-062c-42a2-936b-9762f08b9280",
   "metadata": {},
   "source": [
    "### Question 11"
   ]
  },
  {
   "cell_type": "markdown",
   "id": "d401a2a6-2149-428b-8777-6846124bc393",
   "metadata": {},
   "source": [
    "Yes the Sharpe is Higher"
   ]
  },
  {
   "cell_type": "markdown",
   "id": "03bea6e7-5526-4845-8e72-81c2b9c3f12b",
   "metadata": {},
   "source": [
    "### Question 12"
   ]
  },
  {
   "cell_type": "code",
   "execution_count": 109,
   "id": "b87a24e1-6762-41d3-a422-b4b904b8836c",
   "metadata": {
    "tags": []
   },
   "outputs": [
    {
     "data": {
      "text/html": [
       "<style type=\"text/css\">\n",
       "</style>\n",
       "<table id=\"T_bbe26\">\n",
       "  <thead>\n",
       "    <tr>\n",
       "      <th class=\"blank level0\" >&nbsp;</th>\n",
       "      <th id=\"T_bbe26_level0_col0\" class=\"col_heading level0 col0\" >MaxSharpe</th>\n",
       "    </tr>\n",
       "  </thead>\n",
       "  <tbody>\n",
       "    <tr>\n",
       "      <th id=\"T_bbe26_level0_row0\" class=\"row_heading level0 row0\" >Average Annual Return</th>\n",
       "      <td id=\"T_bbe26_row0_col0\" class=\"data row0 col0\" >10.12%</td>\n",
       "    </tr>\n",
       "    <tr>\n",
       "      <th id=\"T_bbe26_level0_row1\" class=\"row_heading level0 row1\" >Annual Risk</th>\n",
       "      <td id=\"T_bbe26_row1_col0\" class=\"data row1 col0\" >7.25%</td>\n",
       "    </tr>\n",
       "    <tr>\n",
       "      <th id=\"T_bbe26_level0_row2\" class=\"row_heading level0 row2\" >Success Ratio</th>\n",
       "      <td id=\"T_bbe26_row2_col0\" class=\"data row2 col0\" >53.93%</td>\n",
       "    </tr>\n",
       "    <tr>\n",
       "      <th id=\"T_bbe26_level0_row3\" class=\"row_heading level0 row3\" >maxDD</th>\n",
       "      <td id=\"T_bbe26_row3_col0\" class=\"data row3 col0\" >-10.12%</td>\n",
       "    </tr>\n",
       "  </tbody>\n",
       "</table>\n"
      ],
      "text/plain": [
       "<pandas.io.formats.style.Styler at 0x28b42c610>"
      ]
     },
     "metadata": {},
     "output_type": "display_data"
    },
    {
     "data": {
      "text/html": [
       "<div>\n",
       "<style scoped>\n",
       "    .dataframe tbody tr th:only-of-type {\n",
       "        vertical-align: middle;\n",
       "    }\n",
       "\n",
       "    .dataframe tbody tr th {\n",
       "        vertical-align: top;\n",
       "    }\n",
       "\n",
       "    .dataframe thead th {\n",
       "        text-align: right;\n",
       "    }\n",
       "</style>\n",
       "<table border=\"1\" class=\"dataframe\">\n",
       "  <thead>\n",
       "    <tr style=\"text-align: right;\">\n",
       "      <th></th>\n",
       "      <th>MaxSharpe</th>\n",
       "    </tr>\n",
       "  </thead>\n",
       "  <tbody>\n",
       "    <tr>\n",
       "      <th>Sharpe Ratio</th>\n",
       "      <td>1.39533</td>\n",
       "    </tr>\n",
       "  </tbody>\n",
       "</table>\n",
       "</div>"
      ],
      "text/plain": [
       "              MaxSharpe\n",
       "Sharpe Ratio    1.39533"
      ]
     },
     "metadata": {},
     "output_type": "display_data"
    },
    {
     "name": "stdout",
     "output_type": "stream",
     "text": [
      "\n",
      "Summary Statistics of Individual Components:\n",
      "\n",
      "AAPL-MAFlat:\n"
     ]
    },
    {
     "data": {
      "text/html": [
       "<style type=\"text/css\">\n",
       "</style>\n",
       "<table id=\"T_1b5fd\">\n",
       "  <thead>\n",
       "    <tr>\n",
       "      <th class=\"blank level0\" >&nbsp;</th>\n",
       "      <th id=\"T_1b5fd_level0_col0\" class=\"col_heading level0 col0\" >AAPL-MAFlat</th>\n",
       "    </tr>\n",
       "  </thead>\n",
       "  <tbody>\n",
       "    <tr>\n",
       "      <th id=\"T_1b5fd_level0_row0\" class=\"row_heading level0 row0\" >Average Annual Return</th>\n",
       "      <td id=\"T_1b5fd_row0_col0\" class=\"data row0 col0\" >27.81%</td>\n",
       "    </tr>\n",
       "    <tr>\n",
       "      <th id=\"T_1b5fd_level0_row1\" class=\"row_heading level0 row1\" >Annual Risk</th>\n",
       "      <td id=\"T_1b5fd_row1_col0\" class=\"data row1 col0\" >27.47%</td>\n",
       "    </tr>\n",
       "    <tr>\n",
       "      <th id=\"T_1b5fd_level0_row2\" class=\"row_heading level0 row2\" >Success Ratio</th>\n",
       "      <td id=\"T_1b5fd_row2_col0\" class=\"data row2 col0\" >65.92%</td>\n",
       "    </tr>\n",
       "    <tr>\n",
       "      <th id=\"T_1b5fd_level0_row3\" class=\"row_heading level0 row3\" >maxDD</th>\n",
       "      <td id=\"T_1b5fd_row3_col0\" class=\"data row3 col0\" >-55.13%</td>\n",
       "    </tr>\n",
       "  </tbody>\n",
       "</table>\n"
      ],
      "text/plain": [
       "<pandas.io.formats.style.Styler at 0x28b47e390>"
      ]
     },
     "metadata": {},
     "output_type": "display_data"
    },
    {
     "data": {
      "text/html": [
       "<div>\n",
       "<style scoped>\n",
       "    .dataframe tbody tr th:only-of-type {\n",
       "        vertical-align: middle;\n",
       "    }\n",
       "\n",
       "    .dataframe tbody tr th {\n",
       "        vertical-align: top;\n",
       "    }\n",
       "\n",
       "    .dataframe thead th {\n",
       "        text-align: right;\n",
       "    }\n",
       "</style>\n",
       "<table border=\"1\" class=\"dataframe\">\n",
       "  <thead>\n",
       "    <tr style=\"text-align: right;\">\n",
       "      <th></th>\n",
       "      <th>AAPL-MAFlat</th>\n",
       "    </tr>\n",
       "  </thead>\n",
       "  <tbody>\n",
       "    <tr>\n",
       "      <th>Sharpe Ratio</th>\n",
       "      <td>1.012515</td>\n",
       "    </tr>\n",
       "  </tbody>\n",
       "</table>\n",
       "</div>"
      ],
      "text/plain": [
       "              AAPL-MAFlat\n",
       "Sharpe Ratio     1.012515"
      ]
     },
     "metadata": {},
     "output_type": "display_data"
    },
    {
     "name": "stdout",
     "output_type": "stream",
     "text": [
      "\n",
      "EXC-MAFlat:\n"
     ]
    },
    {
     "data": {
      "text/html": [
       "<style type=\"text/css\">\n",
       "</style>\n",
       "<table id=\"T_ad774\">\n",
       "  <thead>\n",
       "    <tr>\n",
       "      <th class=\"blank level0\" >&nbsp;</th>\n",
       "      <th id=\"T_ad774_level0_col0\" class=\"col_heading level0 col0\" >EXC-MAFlat</th>\n",
       "    </tr>\n",
       "  </thead>\n",
       "  <tbody>\n",
       "    <tr>\n",
       "      <th id=\"T_ad774_level0_row0\" class=\"row_heading level0 row0\" >Average Annual Return</th>\n",
       "      <td id=\"T_ad774_row0_col0\" class=\"data row0 col0\" >1.70%</td>\n",
       "    </tr>\n",
       "    <tr>\n",
       "      <th id=\"T_ad774_level0_row1\" class=\"row_heading level0 row1\" >Annual Risk</th>\n",
       "      <td id=\"T_ad774_row1_col0\" class=\"data row1 col0\" >17.15%</td>\n",
       "    </tr>\n",
       "    <tr>\n",
       "      <th id=\"T_ad774_level0_row2\" class=\"row_heading level0 row2\" >Success Ratio</th>\n",
       "      <td id=\"T_ad774_row2_col0\" class=\"data row2 col0\" >71.03%</td>\n",
       "    </tr>\n",
       "    <tr>\n",
       "      <th id=\"T_ad774_level0_row3\" class=\"row_heading level0 row3\" >maxDD</th>\n",
       "      <td id=\"T_ad774_row3_col0\" class=\"data row3 col0\" >-67.90%</td>\n",
       "    </tr>\n",
       "  </tbody>\n",
       "</table>\n"
      ],
      "text/plain": [
       "<pandas.io.formats.style.Styler at 0x28b42eb10>"
      ]
     },
     "metadata": {},
     "output_type": "display_data"
    },
    {
     "data": {
      "text/html": [
       "<div>\n",
       "<style scoped>\n",
       "    .dataframe tbody tr th:only-of-type {\n",
       "        vertical-align: middle;\n",
       "    }\n",
       "\n",
       "    .dataframe tbody tr th {\n",
       "        vertical-align: top;\n",
       "    }\n",
       "\n",
       "    .dataframe thead th {\n",
       "        text-align: right;\n",
       "    }\n",
       "</style>\n",
       "<table border=\"1\" class=\"dataframe\">\n",
       "  <thead>\n",
       "    <tr style=\"text-align: right;\">\n",
       "      <th></th>\n",
       "      <th>EXC-MAFlat</th>\n",
       "    </tr>\n",
       "  </thead>\n",
       "  <tbody>\n",
       "    <tr>\n",
       "      <th>Sharpe Ratio</th>\n",
       "      <td>0.099262</td>\n",
       "    </tr>\n",
       "  </tbody>\n",
       "</table>\n",
       "</div>"
      ],
      "text/plain": [
       "              EXC-MAFlat\n",
       "Sharpe Ratio    0.099262"
      ]
     },
     "metadata": {},
     "output_type": "display_data"
    },
    {
     "name": "stdout",
     "output_type": "stream",
     "text": [
      "\n",
      "GE-MAFlat:\n"
     ]
    },
    {
     "data": {
      "text/html": [
       "<style type=\"text/css\">\n",
       "</style>\n",
       "<table id=\"T_e3cae\">\n",
       "  <thead>\n",
       "    <tr>\n",
       "      <th class=\"blank level0\" >&nbsp;</th>\n",
       "      <th id=\"T_e3cae_level0_col0\" class=\"col_heading level0 col0\" >GE-MAFlat</th>\n",
       "    </tr>\n",
       "  </thead>\n",
       "  <tbody>\n",
       "    <tr>\n",
       "      <th id=\"T_e3cae_level0_row0\" class=\"row_heading level0 row0\" >Average Annual Return</th>\n",
       "      <td id=\"T_e3cae_row0_col0\" class=\"data row0 col0\" >0.47%</td>\n",
       "    </tr>\n",
       "    <tr>\n",
       "      <th id=\"T_e3cae_level0_row1\" class=\"row_heading level0 row1\" >Annual Risk</th>\n",
       "      <td id=\"T_e3cae_row1_col0\" class=\"data row1 col0\" >14.22%</td>\n",
       "    </tr>\n",
       "    <tr>\n",
       "      <th id=\"T_e3cae_level0_row2\" class=\"row_heading level0 row2\" >Success Ratio</th>\n",
       "      <td id=\"T_e3cae_row2_col0\" class=\"data row2 col0\" >74.67%</td>\n",
       "    </tr>\n",
       "    <tr>\n",
       "      <th id=\"T_e3cae_level0_row3\" class=\"row_heading level0 row3\" >maxDD</th>\n",
       "      <td id=\"T_e3cae_row3_col0\" class=\"data row3 col0\" >-31.17%</td>\n",
       "    </tr>\n",
       "  </tbody>\n",
       "</table>\n"
      ],
      "text/plain": [
       "<pandas.io.formats.style.Styler at 0x28ae84050>"
      ]
     },
     "metadata": {},
     "output_type": "display_data"
    },
    {
     "data": {
      "text/html": [
       "<div>\n",
       "<style scoped>\n",
       "    .dataframe tbody tr th:only-of-type {\n",
       "        vertical-align: middle;\n",
       "    }\n",
       "\n",
       "    .dataframe tbody tr th {\n",
       "        vertical-align: top;\n",
       "    }\n",
       "\n",
       "    .dataframe thead th {\n",
       "        text-align: right;\n",
       "    }\n",
       "</style>\n",
       "<table border=\"1\" class=\"dataframe\">\n",
       "  <thead>\n",
       "    <tr style=\"text-align: right;\">\n",
       "      <th></th>\n",
       "      <th>GE-MAFlat</th>\n",
       "    </tr>\n",
       "  </thead>\n",
       "  <tbody>\n",
       "    <tr>\n",
       "      <th>Sharpe Ratio</th>\n",
       "      <td>0.033361</td>\n",
       "    </tr>\n",
       "  </tbody>\n",
       "</table>\n",
       "</div>"
      ],
      "text/plain": [
       "              GE-MAFlat\n",
       "Sharpe Ratio   0.033361"
      ]
     },
     "metadata": {},
     "output_type": "display_data"
    },
    {
     "name": "stdout",
     "output_type": "stream",
     "text": [
      "\n",
      "PFE-BB:\n"
     ]
    },
    {
     "data": {
      "text/html": [
       "<style type=\"text/css\">\n",
       "</style>\n",
       "<table id=\"T_7ff9f\">\n",
       "  <thead>\n",
       "    <tr>\n",
       "      <th class=\"blank level0\" >&nbsp;</th>\n",
       "      <th id=\"T_7ff9f_level0_col0\" class=\"col_heading level0 col0\" >PFE-BB</th>\n",
       "    </tr>\n",
       "  </thead>\n",
       "  <tbody>\n",
       "    <tr>\n",
       "      <th id=\"T_7ff9f_level0_row0\" class=\"row_heading level0 row0\" >Average Annual Return</th>\n",
       "      <td id=\"T_7ff9f_row0_col0\" class=\"data row0 col0\" >8.16%</td>\n",
       "    </tr>\n",
       "    <tr>\n",
       "      <th id=\"T_7ff9f_level0_row1\" class=\"row_heading level0 row1\" >Annual Risk</th>\n",
       "      <td id=\"T_7ff9f_row1_col0\" class=\"data row1 col0\" >12.93%</td>\n",
       "    </tr>\n",
       "    <tr>\n",
       "      <th id=\"T_7ff9f_level0_row2\" class=\"row_heading level0 row2\" >Success Ratio</th>\n",
       "      <td id=\"T_7ff9f_row2_col0\" class=\"data row2 col0\" >92.59%</td>\n",
       "    </tr>\n",
       "    <tr>\n",
       "      <th id=\"T_7ff9f_level0_row3\" class=\"row_heading level0 row3\" >maxDD</th>\n",
       "      <td id=\"T_7ff9f_row3_col0\" class=\"data row3 col0\" >-24.22%</td>\n",
       "    </tr>\n",
       "  </tbody>\n",
       "</table>\n"
      ],
      "text/plain": [
       "<pandas.io.formats.style.Styler at 0x28b415c90>"
      ]
     },
     "metadata": {},
     "output_type": "display_data"
    },
    {
     "data": {
      "text/html": [
       "<div>\n",
       "<style scoped>\n",
       "    .dataframe tbody tr th:only-of-type {\n",
       "        vertical-align: middle;\n",
       "    }\n",
       "\n",
       "    .dataframe tbody tr th {\n",
       "        vertical-align: top;\n",
       "    }\n",
       "\n",
       "    .dataframe thead th {\n",
       "        text-align: right;\n",
       "    }\n",
       "</style>\n",
       "<table border=\"1\" class=\"dataframe\">\n",
       "  <thead>\n",
       "    <tr style=\"text-align: right;\">\n",
       "      <th></th>\n",
       "      <th>PFE-BB</th>\n",
       "    </tr>\n",
       "  </thead>\n",
       "  <tbody>\n",
       "    <tr>\n",
       "      <th>Sharpe Ratio</th>\n",
       "      <td>0.630957</td>\n",
       "    </tr>\n",
       "  </tbody>\n",
       "</table>\n",
       "</div>"
      ],
      "text/plain": [
       "                PFE-BB\n",
       "Sharpe Ratio  0.630957"
      ]
     },
     "metadata": {},
     "output_type": "display_data"
    },
    {
     "name": "stdout",
     "output_type": "stream",
     "text": [
      "\n",
      "SPY-MAFlat:\n"
     ]
    },
    {
     "data": {
      "text/html": [
       "<style type=\"text/css\">\n",
       "</style>\n",
       "<table id=\"T_61e12\">\n",
       "  <thead>\n",
       "    <tr>\n",
       "      <th class=\"blank level0\" >&nbsp;</th>\n",
       "      <th id=\"T_61e12_level0_col0\" class=\"col_heading level0 col0\" >SPY-MAFlat</th>\n",
       "    </tr>\n",
       "  </thead>\n",
       "  <tbody>\n",
       "    <tr>\n",
       "      <th id=\"T_61e12_level0_row0\" class=\"row_heading level0 row0\" >Average Annual Return</th>\n",
       "      <td id=\"T_61e12_row0_col0\" class=\"data row0 col0\" >5.46%</td>\n",
       "    </tr>\n",
       "    <tr>\n",
       "      <th id=\"T_61e12_level0_row1\" class=\"row_heading level0 row1\" >Annual Risk</th>\n",
       "      <td id=\"T_61e12_row1_col0\" class=\"data row1 col0\" >10.58%</td>\n",
       "    </tr>\n",
       "    <tr>\n",
       "      <th id=\"T_61e12_level0_row2\" class=\"row_heading level0 row2\" >Success Ratio</th>\n",
       "      <td id=\"T_61e12_row2_col0\" class=\"data row2 col0\" >69.56%</td>\n",
       "    </tr>\n",
       "    <tr>\n",
       "      <th id=\"T_61e12_level0_row3\" class=\"row_heading level0 row3\" >maxDD</th>\n",
       "      <td id=\"T_61e12_row3_col0\" class=\"data row3 col0\" >-19.50%</td>\n",
       "    </tr>\n",
       "  </tbody>\n",
       "</table>\n"
      ],
      "text/plain": [
       "<pandas.io.formats.style.Styler at 0x28b44a890>"
      ]
     },
     "metadata": {},
     "output_type": "display_data"
    },
    {
     "data": {
      "text/html": [
       "<div>\n",
       "<style scoped>\n",
       "    .dataframe tbody tr th:only-of-type {\n",
       "        vertical-align: middle;\n",
       "    }\n",
       "\n",
       "    .dataframe tbody tr th {\n",
       "        vertical-align: top;\n",
       "    }\n",
       "\n",
       "    .dataframe thead th {\n",
       "        text-align: right;\n",
       "    }\n",
       "</style>\n",
       "<table border=\"1\" class=\"dataframe\">\n",
       "  <thead>\n",
       "    <tr style=\"text-align: right;\">\n",
       "      <th></th>\n",
       "      <th>SPY-MAFlat</th>\n",
       "    </tr>\n",
       "  </thead>\n",
       "  <tbody>\n",
       "    <tr>\n",
       "      <th>Sharpe Ratio</th>\n",
       "      <td>0.515852</td>\n",
       "    </tr>\n",
       "  </tbody>\n",
       "</table>\n",
       "</div>"
      ],
      "text/plain": [
       "              SPY-MAFlat\n",
       "Sharpe Ratio    0.515852"
      ]
     },
     "metadata": {},
     "output_type": "display_data"
    },
    {
     "name": "stdout",
     "output_type": "stream",
     "text": [
      "\n",
      "VBTIX-MAShort:\n"
     ]
    },
    {
     "data": {
      "text/html": [
       "<style type=\"text/css\">\n",
       "</style>\n",
       "<table id=\"T_c9924\">\n",
       "  <thead>\n",
       "    <tr>\n",
       "      <th class=\"blank level0\" >&nbsp;</th>\n",
       "      <th id=\"T_c9924_level0_col0\" class=\"col_heading level0 col0\" >VBTIX-MAShort</th>\n",
       "    </tr>\n",
       "  </thead>\n",
       "  <tbody>\n",
       "    <tr>\n",
       "      <th id=\"T_c9924_level0_row0\" class=\"row_heading level0 row0\" >Average Annual Return</th>\n",
       "      <td id=\"T_c9924_row0_col0\" class=\"data row0 col0\" >0.14%</td>\n",
       "    </tr>\n",
       "    <tr>\n",
       "      <th id=\"T_c9924_level0_row1\" class=\"row_heading level0 row1\" >Annual Risk</th>\n",
       "      <td id=\"T_c9924_row1_col0\" class=\"data row1 col0\" >3.81%</td>\n",
       "    </tr>\n",
       "    <tr>\n",
       "      <th id=\"T_c9924_level0_row2\" class=\"row_heading level0 row2\" >Success Ratio</th>\n",
       "      <td id=\"T_c9924_row2_col0\" class=\"data row2 col0\" >59.29%</td>\n",
       "    </tr>\n",
       "    <tr>\n",
       "      <th id=\"T_c9924_level0_row3\" class=\"row_heading level0 row3\" >maxDD</th>\n",
       "      <td id=\"T_c9924_row3_col0\" class=\"data row3 col0\" >-13.79%</td>\n",
       "    </tr>\n",
       "  </tbody>\n",
       "</table>\n"
      ],
      "text/plain": [
       "<pandas.io.formats.style.Styler at 0x177164310>"
      ]
     },
     "metadata": {},
     "output_type": "display_data"
    },
    {
     "data": {
      "text/html": [
       "<div>\n",
       "<style scoped>\n",
       "    .dataframe tbody tr th:only-of-type {\n",
       "        vertical-align: middle;\n",
       "    }\n",
       "\n",
       "    .dataframe tbody tr th {\n",
       "        vertical-align: top;\n",
       "    }\n",
       "\n",
       "    .dataframe thead th {\n",
       "        text-align: right;\n",
       "    }\n",
       "</style>\n",
       "<table border=\"1\" class=\"dataframe\">\n",
       "  <thead>\n",
       "    <tr style=\"text-align: right;\">\n",
       "      <th></th>\n",
       "      <th>VBTIX-MAShort</th>\n",
       "    </tr>\n",
       "  </thead>\n",
       "  <tbody>\n",
       "    <tr>\n",
       "      <th>Sharpe Ratio</th>\n",
       "      <td>0.037111</td>\n",
       "    </tr>\n",
       "  </tbody>\n",
       "</table>\n",
       "</div>"
      ],
      "text/plain": [
       "              VBTIX-MAShort\n",
       "Sharpe Ratio       0.037111"
      ]
     },
     "metadata": {},
     "output_type": "display_data"
    },
    {
     "name": "stdout",
     "output_type": "stream",
     "text": [
      "\n",
      "XPT-MAShort:\n"
     ]
    },
    {
     "data": {
      "text/html": [
       "<style type=\"text/css\">\n",
       "</style>\n",
       "<table id=\"T_01842\">\n",
       "  <thead>\n",
       "    <tr>\n",
       "      <th class=\"blank level0\" >&nbsp;</th>\n",
       "      <th id=\"T_01842_level0_col0\" class=\"col_heading level0 col0\" >XPT-MAShort</th>\n",
       "    </tr>\n",
       "  </thead>\n",
       "  <tbody>\n",
       "    <tr>\n",
       "      <th id=\"T_01842_level0_row0\" class=\"row_heading level0 row0\" >Average Annual Return</th>\n",
       "      <td id=\"T_01842_row0_col0\" class=\"data row0 col0\" >14.13%</td>\n",
       "    </tr>\n",
       "    <tr>\n",
       "      <th id=\"T_01842_level0_row1\" class=\"row_heading level0 row1\" >Annual Risk</th>\n",
       "      <td id=\"T_01842_row1_col0\" class=\"data row1 col0\" >22.23%</td>\n",
       "    </tr>\n",
       "    <tr>\n",
       "      <th id=\"T_01842_level0_row2\" class=\"row_heading level0 row2\" >Success Ratio</th>\n",
       "      <td id=\"T_01842_row2_col0\" class=\"data row2 col0\" >52.86%</td>\n",
       "    </tr>\n",
       "    <tr>\n",
       "      <th id=\"T_01842_level0_row3\" class=\"row_heading level0 row3\" >maxDD</th>\n",
       "      <td id=\"T_01842_row3_col0\" class=\"data row3 col0\" >-81.65%</td>\n",
       "    </tr>\n",
       "  </tbody>\n",
       "</table>\n"
      ],
      "text/plain": [
       "<pandas.io.formats.style.Styler at 0x28b3ee650>"
      ]
     },
     "metadata": {},
     "output_type": "display_data"
    },
    {
     "data": {
      "text/html": [
       "<div>\n",
       "<style scoped>\n",
       "    .dataframe tbody tr th:only-of-type {\n",
       "        vertical-align: middle;\n",
       "    }\n",
       "\n",
       "    .dataframe tbody tr th {\n",
       "        vertical-align: top;\n",
       "    }\n",
       "\n",
       "    .dataframe thead th {\n",
       "        text-align: right;\n",
       "    }\n",
       "</style>\n",
       "<table border=\"1\" class=\"dataframe\">\n",
       "  <thead>\n",
       "    <tr style=\"text-align: right;\">\n",
       "      <th></th>\n",
       "      <th>XPT-MAShort</th>\n",
       "    </tr>\n",
       "  </thead>\n",
       "  <tbody>\n",
       "    <tr>\n",
       "      <th>Sharpe Ratio</th>\n",
       "      <td>0.635677</td>\n",
       "    </tr>\n",
       "  </tbody>\n",
       "</table>\n",
       "</div>"
      ],
      "text/plain": [
       "              XPT-MAShort\n",
       "Sharpe Ratio     0.635677"
      ]
     },
     "metadata": {},
     "output_type": "display_data"
    },
    {
     "name": "stdout",
     "output_type": "stream",
     "text": [
      "\n",
      "GBP-MAShort:\n"
     ]
    },
    {
     "data": {
      "text/html": [
       "<style type=\"text/css\">\n",
       "</style>\n",
       "<table id=\"T_166e5\">\n",
       "  <thead>\n",
       "    <tr>\n",
       "      <th class=\"blank level0\" >&nbsp;</th>\n",
       "      <th id=\"T_166e5_level0_col0\" class=\"col_heading level0 col0\" >GBP-MAShort</th>\n",
       "    </tr>\n",
       "  </thead>\n",
       "  <tbody>\n",
       "    <tr>\n",
       "      <th id=\"T_166e5_level0_row0\" class=\"row_heading level0 row0\" >Average Annual Return</th>\n",
       "      <td id=\"T_166e5_row0_col0\" class=\"data row0 col0\" >4.99%</td>\n",
       "    </tr>\n",
       "    <tr>\n",
       "      <th id=\"T_166e5_level0_row1\" class=\"row_heading level0 row1\" >Annual Risk</th>\n",
       "      <td id=\"T_166e5_row1_col0\" class=\"data row1 col0\" >9.52%</td>\n",
       "    </tr>\n",
       "    <tr>\n",
       "      <th id=\"T_166e5_level0_row2\" class=\"row_heading level0 row2\" >Success Ratio</th>\n",
       "      <td id=\"T_166e5_row2_col0\" class=\"data row2 col0\" >51.42%</td>\n",
       "    </tr>\n",
       "    <tr>\n",
       "      <th id=\"T_166e5_level0_row3\" class=\"row_heading level0 row3\" >maxDD</th>\n",
       "      <td id=\"T_166e5_row3_col0\" class=\"data row3 col0\" >-20.72%</td>\n",
       "    </tr>\n",
       "  </tbody>\n",
       "</table>\n"
      ],
      "text/plain": [
       "<pandas.io.formats.style.Styler at 0x28b415750>"
      ]
     },
     "metadata": {},
     "output_type": "display_data"
    },
    {
     "data": {
      "text/html": [
       "<div>\n",
       "<style scoped>\n",
       "    .dataframe tbody tr th:only-of-type {\n",
       "        vertical-align: middle;\n",
       "    }\n",
       "\n",
       "    .dataframe tbody tr th {\n",
       "        vertical-align: top;\n",
       "    }\n",
       "\n",
       "    .dataframe thead th {\n",
       "        text-align: right;\n",
       "    }\n",
       "</style>\n",
       "<table border=\"1\" class=\"dataframe\">\n",
       "  <thead>\n",
       "    <tr style=\"text-align: right;\">\n",
       "      <th></th>\n",
       "      <th>GBP-MAShort</th>\n",
       "    </tr>\n",
       "  </thead>\n",
       "  <tbody>\n",
       "    <tr>\n",
       "      <th>Sharpe Ratio</th>\n",
       "      <td>0.523448</td>\n",
       "    </tr>\n",
       "  </tbody>\n",
       "</table>\n",
       "</div>"
      ],
      "text/plain": [
       "              GBP-MAShort\n",
       "Sharpe Ratio     0.523448"
      ]
     },
     "metadata": {},
     "output_type": "display_data"
    }
   ],
   "source": [
    "# calculated for the maximum Sharpe ratio portfolio\n",
    "\n",
    "wts_max = wts_df[max_sharpe_index]\n",
    "\n",
    "# Calculate the returns of the max Sharpe portfolio\n",
    "merged_df['MaxSharpe'] = merged_df[myPortfolioColumns].dot(wts_max)\n",
    "\n",
    "# Display summary statistics\n",
    "calcSummaryStatistics(merged_df[['MaxSharpe']])\n",
    "\n",
    "# Compare with individual components\n",
    "print(\"\\nSummary Statistics of Individual Components:\")\n",
    "for col in myPortfolioColumns:\n",
    "    print(f\"\\n{col}:\")\n",
    "    calcSummaryStatistics(merged_df[[col]])\n"
   ]
  },
  {
   "cell_type": "code",
   "execution_count": 110,
   "id": "36b5f415-ca92-4c62-9e7a-f55ed435d3cd",
   "metadata": {
    "tags": []
   },
   "outputs": [
    {
     "data": {
      "text/html": [
       "<div>\n",
       "<style scoped>\n",
       "    .dataframe tbody tr th:only-of-type {\n",
       "        vertical-align: middle;\n",
       "    }\n",
       "\n",
       "    .dataframe tbody tr th {\n",
       "        vertical-align: top;\n",
       "    }\n",
       "\n",
       "    .dataframe thead th {\n",
       "        text-align: right;\n",
       "    }\n",
       "</style>\n",
       "<table border=\"1\" class=\"dataframe\">\n",
       "  <thead>\n",
       "    <tr style=\"text-align: right;\">\n",
       "      <th></th>\n",
       "      <th>AAPL-MAFlat</th>\n",
       "      <th>EXC-MAFlat</th>\n",
       "      <th>GE-MAFlat</th>\n",
       "      <th>PFE-BB</th>\n",
       "      <th>SPY-MAFlat</th>\n",
       "      <th>VBTIX-MAShort</th>\n",
       "      <th>XPT-MAShort</th>\n",
       "      <th>GBP-MAShort</th>\n",
       "      <th>MaxSharpe</th>\n",
       "    </tr>\n",
       "    <tr>\n",
       "      <th>Date</th>\n",
       "      <th></th>\n",
       "      <th></th>\n",
       "      <th></th>\n",
       "      <th></th>\n",
       "      <th></th>\n",
       "      <th></th>\n",
       "      <th></th>\n",
       "      <th></th>\n",
       "      <th></th>\n",
       "    </tr>\n",
       "  </thead>\n",
       "  <tbody>\n",
       "    <tr>\n",
       "      <th>2000-05-31</th>\n",
       "      <td>NaN</td>\n",
       "      <td>NaN</td>\n",
       "      <td>NaN</td>\n",
       "      <td>NaN</td>\n",
       "      <td>NaN</td>\n",
       "      <td>NaN</td>\n",
       "      <td>NaN</td>\n",
       "      <td>NaN</td>\n",
       "      <td>NaN</td>\n",
       "    </tr>\n",
       "    <tr>\n",
       "      <th>2000-06-01</th>\n",
       "      <td>NaN</td>\n",
       "      <td>NaN</td>\n",
       "      <td>NaN</td>\n",
       "      <td>NaN</td>\n",
       "      <td>NaN</td>\n",
       "      <td>0.005271</td>\n",
       "      <td>0.009116</td>\n",
       "      <td>0.004673</td>\n",
       "      <td>NaN</td>\n",
       "    </tr>\n",
       "    <tr>\n",
       "      <th>2000-06-02</th>\n",
       "      <td>NaN</td>\n",
       "      <td>NaN</td>\n",
       "      <td>NaN</td>\n",
       "      <td>NaN</td>\n",
       "      <td>NaN</td>\n",
       "      <td>0.004197</td>\n",
       "      <td>0.016202</td>\n",
       "      <td>-0.010252</td>\n",
       "      <td>NaN</td>\n",
       "    </tr>\n",
       "    <tr>\n",
       "      <th>2000-06-05</th>\n",
       "      <td>NaN</td>\n",
       "      <td>NaN</td>\n",
       "      <td>NaN</td>\n",
       "      <td>NaN</td>\n",
       "      <td>NaN</td>\n",
       "      <td>0.003136</td>\n",
       "      <td>0.008889</td>\n",
       "      <td>-0.006470</td>\n",
       "      <td>NaN</td>\n",
       "    </tr>\n",
       "    <tr>\n",
       "      <th>2000-06-06</th>\n",
       "      <td>NaN</td>\n",
       "      <td>NaN</td>\n",
       "      <td>NaN</td>\n",
       "      <td>NaN</td>\n",
       "      <td>NaN</td>\n",
       "      <td>0.000000</td>\n",
       "      <td>0.007055</td>\n",
       "      <td>-0.005774</td>\n",
       "      <td>NaN</td>\n",
       "    </tr>\n",
       "    <tr>\n",
       "      <th>...</th>\n",
       "      <td>...</td>\n",
       "      <td>...</td>\n",
       "      <td>...</td>\n",
       "      <td>...</td>\n",
       "      <td>...</td>\n",
       "      <td>...</td>\n",
       "      <td>...</td>\n",
       "      <td>...</td>\n",
       "      <td>...</td>\n",
       "    </tr>\n",
       "    <tr>\n",
       "      <th>2018-12-24</th>\n",
       "      <td>-0.0</td>\n",
       "      <td>-0.045929</td>\n",
       "      <td>-0.0</td>\n",
       "      <td>0.033466</td>\n",
       "      <td>-0.0</td>\n",
       "      <td>-0.001919</td>\n",
       "      <td>-0.001678</td>\n",
       "      <td>-0.004812</td>\n",
       "      <td>0.005503</td>\n",
       "    </tr>\n",
       "    <tr>\n",
       "      <th>2018-12-26</th>\n",
       "      <td>0.0</td>\n",
       "      <td>0.014721</td>\n",
       "      <td>0.0</td>\n",
       "      <td>0.000000</td>\n",
       "      <td>0.0</td>\n",
       "      <td>0.003842</td>\n",
       "      <td>0.014666</td>\n",
       "      <td>-0.005762</td>\n",
       "      <td>0.000414</td>\n",
       "    </tr>\n",
       "    <tr>\n",
       "      <th>2018-12-27</th>\n",
       "      <td>-0.0</td>\n",
       "      <td>0.006722</td>\n",
       "      <td>-0.0</td>\n",
       "      <td>0.000000</td>\n",
       "      <td>0.0</td>\n",
       "      <td>-0.000962</td>\n",
       "      <td>-0.000941</td>\n",
       "      <td>0.000870</td>\n",
       "      <td>0.000379</td>\n",
       "    </tr>\n",
       "    <tr>\n",
       "      <th>2018-12-28</th>\n",
       "      <td>0.0</td>\n",
       "      <td>-0.000894</td>\n",
       "      <td>0.0</td>\n",
       "      <td>0.000000</td>\n",
       "      <td>-0.0</td>\n",
       "      <td>-0.002880</td>\n",
       "      <td>-0.007876</td>\n",
       "      <td>0.004340</td>\n",
       "      <td>0.000435</td>\n",
       "    </tr>\n",
       "    <tr>\n",
       "      <th>2018-12-31</th>\n",
       "      <td>0.0</td>\n",
       "      <td>0.008014</td>\n",
       "      <td>0.0</td>\n",
       "      <td>0.000000</td>\n",
       "      <td>0.0</td>\n",
       "      <td>-0.001916</td>\n",
       "      <td>0.006557</td>\n",
       "      <td>0.004322</td>\n",
       "      <td>0.002657</td>\n",
       "    </tr>\n",
       "  </tbody>\n",
       "</table>\n",
       "<p>4676 rows × 9 columns</p>\n",
       "</div>"
      ],
      "text/plain": [
       "            AAPL-MAFlat  EXC-MAFlat  GE-MAFlat    PFE-BB  SPY-MAFlat  \\\n",
       "Date                                                                   \n",
       "2000-05-31          NaN         NaN        NaN       NaN         NaN   \n",
       "2000-06-01          NaN         NaN        NaN       NaN         NaN   \n",
       "2000-06-02          NaN         NaN        NaN       NaN         NaN   \n",
       "2000-06-05          NaN         NaN        NaN       NaN         NaN   \n",
       "2000-06-06          NaN         NaN        NaN       NaN         NaN   \n",
       "...                 ...         ...        ...       ...         ...   \n",
       "2018-12-24         -0.0   -0.045929       -0.0  0.033466        -0.0   \n",
       "2018-12-26          0.0    0.014721        0.0  0.000000         0.0   \n",
       "2018-12-27         -0.0    0.006722       -0.0  0.000000         0.0   \n",
       "2018-12-28          0.0   -0.000894        0.0  0.000000        -0.0   \n",
       "2018-12-31          0.0    0.008014        0.0  0.000000         0.0   \n",
       "\n",
       "            VBTIX-MAShort  XPT-MAShort  GBP-MAShort  MaxSharpe  \n",
       "Date                                                            \n",
       "2000-05-31            NaN          NaN          NaN        NaN  \n",
       "2000-06-01       0.005271     0.009116     0.004673        NaN  \n",
       "2000-06-02       0.004197     0.016202    -0.010252        NaN  \n",
       "2000-06-05       0.003136     0.008889    -0.006470        NaN  \n",
       "2000-06-06       0.000000     0.007055    -0.005774        NaN  \n",
       "...                   ...          ...          ...        ...  \n",
       "2018-12-24      -0.001919    -0.001678    -0.004812   0.005503  \n",
       "2018-12-26       0.003842     0.014666    -0.005762   0.000414  \n",
       "2018-12-27      -0.000962    -0.000941     0.000870   0.000379  \n",
       "2018-12-28      -0.002880    -0.007876     0.004340   0.000435  \n",
       "2018-12-31      -0.001916     0.006557     0.004322   0.002657  \n",
       "\n",
       "[4676 rows x 9 columns]"
      ]
     },
     "execution_count": 110,
     "metadata": {},
     "output_type": "execute_result"
    }
   ],
   "source": [
    "merged_df"
   ]
  },
  {
   "cell_type": "markdown",
   "id": "5302bbba-9a1f-4f91-be10-db533bd47a64",
   "metadata": {},
   "source": [
    "#### Salient Features:\n",
    "\n",
    "MaxSharpe Portfolio:\n",
    "Average Annual Return: 10.12%\n",
    "\n",
    "This is the average yearly gain of your portfolio, which indicates how well your investments performed on average each year.\n",
    "Annual Risk: 7.25%\n",
    "\n",
    "This represents the standard deviation of the portfolio's returns, providing a measure of the portfolio's volatility or risk.\n",
    "Success Ratio: 53.93%\n",
    "\n",
    "The success ratio is the percentage of positive-return periods, giving an idea of how often the portfolio generates positive returns.\n",
    "maxDD (Maximum Drawdown): -10.12%\n",
    "\n",
    "This is the largest percentage decline in the portfolio from a previous peak. In this case, it's a positive value, suggesting a 10.12% decrease from the highest point.\n",
    "Sharpe Ratio: 1.39533\n",
    "\n",
    "The Sharpe Ratio measures the risk-adjusted return of the portfolio. A higher Sharpe Ratio generally indicates a better risk-adjusted performance.\n",
    "Individual Components:\n",
    "Each individual component of the portfolio (e.g., AAPL-MAFlat, EXC-MAFlat, etc.) has its own set of summary statistics. Here are the key points:\n",
    "\n",
    "Average Annual Return:\n",
    "\n",
    "The returns of individual components vary, with AAPL-MAFlat having the highest return (27.81%) and VBTIX-MAShort having the lowest (0.14%).\n",
    "Annual Risk:\n",
    "\n",
    "The individual components also have varying levels of risk, with XPT-MAShort having the highest annual risk (22.23%) and VBTIX-MAShort having the lowest (3.81%).\n",
    "Success Ratio:\n",
    "\n",
    "Success ratios differ across components, with PFE-BB having the highest (92.59%) and VBTIX-MAShort having the lowest (59.29%).\n",
    "maxDD (Maximum Drawdown):\n",
    "\n",
    "Drawdowns vary significantly, with XPT-MAShort experiencing the largest drawdown (-81.65%), indicating a substantial loss at its lowest point.\n",
    "Sharpe Ratio:\n",
    "\n",
    "Sharpe Ratios provide a measure of risk-adjusted returns for individual components, with AAPL-MAFlat having the highest (1.012515) and GE-MAFlat having the lowest (0.033361).\n",
    "\n",
    "#### Overall Comparison:\n",
    "The MaxSharpe portfolio appears to have a moderate level of risk (7.25%) with a relatively high average annual return (10.12%) and a decent Sharpe Ratio (1.39533).\n",
    "Individual components show a wide range of performance, risk, and drawdowns.\n",
    "Diversification and the allocation strategy seem to contribute to achieving a better risk-adjusted return in the overall portfolio compared to individual components.\n"
   ]
  },
  {
   "cell_type": "markdown",
   "id": "ff4bd7e0-28ce-4267-835f-7d11d0d47fe9",
   "metadata": {},
   "source": [
    "### Question 13"
   ]
  },
  {
   "cell_type": "code",
   "execution_count": 111,
   "id": "edbe265f-ff50-4bfa-ad00-524e571c053f",
   "metadata": {
    "tags": []
   },
   "outputs": [
    {
     "name": "stdout",
     "output_type": "stream",
     "text": [
      "Beta of the Maximum Sharpe Portfolio to S&P 500: 0.19409127418819042\n"
     ]
    }
   ],
   "source": [
    "from sklearn.linear_model import LinearRegression\n",
    "\n",
    "# Assuming dfPrices contains the prices including the S&P 500 (SPY)\n",
    "# and merged_df contains the returns of your portfolios, including 'MaxSharpe' and 'SPY-MAFlat'\n",
    "\n",
    "# Extract relevant columns\n",
    "returns_data = merged_df[['MaxSharpe', 'SPY-MAFlat']].dropna()\n",
    "\n",
    "# Separate independent variable (SPY) and dependent variable (MaxSharpe)\n",
    "X = returns_data[['SPY-MAFlat']]\n",
    "y = returns_data['MaxSharpe']\n",
    "\n",
    "# Fit linear regression model\n",
    "model = LinearRegression()\n",
    "model.fit(X, y)\n",
    "\n",
    "# Get the beta coefficient\n",
    "beta = model.coef_[0]\n",
    "\n",
    "print(\"Beta of the Maximum Sharpe Portfolio to S&P 500:\", beta)\n"
   ]
  },
  {
   "cell_type": "markdown",
   "id": "0249b57b-35d9-42fa-83a6-d40f9e21f381",
   "metadata": {},
   "source": [
    "Answer:\n",
    "\n",
    "A beta of 0.1940 indicates that the Maximum Sharpe Portfolio has a relatively lower sensitivity to the S&P 500, providing potential diversification benefits and suggesting a strategy that is less affected by overall market movements. "
   ]
  },
  {
   "cell_type": "markdown",
   "id": "07a0eb39-13a9-483e-a249-08548b6eddda",
   "metadata": {},
   "source": [
    "### Question 14"
   ]
  },
  {
   "cell_type": "markdown",
   "id": "5f61b56a-a1e5-4898-9510-3b8a754afa36",
   "metadata": {},
   "source": [
    "##### 14)A"
   ]
  },
  {
   "cell_type": "code",
   "execution_count": 112,
   "id": "e327d777-2eed-4f4a-819c-3e0ff8a63d77",
   "metadata": {},
   "outputs": [],
   "source": [
    "df_ma_AAPL = movingAverageCrossover(dfPrices[['AAPL']].copy(), 11, 220)\n",
    "df_ma_EXC = movingAverageCrossover(dfPrices[['EXC']].copy(), 11, 220)\n",
    "df_ma_GE = movingAverageCrossover(dfPrices[['GE']].copy(), 11, 220)\n",
    "df_ma_PFE = movingAverageCrossover(dfPrices[['PFE']].copy(), 11, 220)\n",
    "df_ma_SPY = movingAverageCrossover(dfPrices[['SPY']].copy(), 11, 220)\n",
    "df_ma_FBNDX = movingAverageCrossover(dfPrices[['FBNDX']].copy(), 11, 220)\n",
    "df_ma_XPT = movingAverageCrossover(dfPrices[['XPT']].copy(), 11, 220)\n",
    "df_ma_GBP = movingAverageCrossover(dfPrices[['GBP']].copy(), 11, 220)\n"
   ]
  },
  {
   "cell_type": "code",
   "execution_count": 113,
   "id": "190f82dd-44c9-4f73-9d32-5f38005ca44c",
   "metadata": {},
   "outputs": [
    {
     "data": {
      "text/html": [
       "<div>\n",
       "<style scoped>\n",
       "    .dataframe tbody tr th:only-of-type {\n",
       "        vertical-align: middle;\n",
       "    }\n",
       "\n",
       "    .dataframe tbody tr th {\n",
       "        vertical-align: top;\n",
       "    }\n",
       "\n",
       "    .dataframe thead th {\n",
       "        text-align: right;\n",
       "    }\n",
       "</style>\n",
       "<table border=\"1\" class=\"dataframe\">\n",
       "  <thead>\n",
       "    <tr style=\"text-align: right;\">\n",
       "      <th></th>\n",
       "      <th>AAPL-BMK</th>\n",
       "      <th>EXC-BMK</th>\n",
       "      <th>GE-BMK</th>\n",
       "      <th>PFE-BMK</th>\n",
       "      <th>SPY-BMK</th>\n",
       "      <th>FBNDX-BMK</th>\n",
       "      <th>XPT-BMK</th>\n",
       "      <th>GBP-BMK</th>\n",
       "    </tr>\n",
       "    <tr>\n",
       "      <th>Date</th>\n",
       "      <th></th>\n",
       "      <th></th>\n",
       "      <th></th>\n",
       "      <th></th>\n",
       "      <th></th>\n",
       "      <th></th>\n",
       "      <th></th>\n",
       "      <th></th>\n",
       "    </tr>\n",
       "  </thead>\n",
       "  <tbody>\n",
       "    <tr>\n",
       "      <th>2000-11-10</th>\n",
       "      <td>NaN</td>\n",
       "      <td>NaN</td>\n",
       "      <td>NaN</td>\n",
       "      <td>NaN</td>\n",
       "      <td>NaN</td>\n",
       "      <td>NaN</td>\n",
       "      <td>NaN</td>\n",
       "      <td>NaN</td>\n",
       "    </tr>\n",
       "    <tr>\n",
       "      <th>2000-11-13</th>\n",
       "      <td>0.016259</td>\n",
       "      <td>0.006263</td>\n",
       "      <td>-0.046299</td>\n",
       "      <td>-0.044902</td>\n",
       "      <td>-0.007807</td>\n",
       "      <td>0.001430</td>\n",
       "      <td>-0.009368</td>\n",
       "      <td>0.008731</td>\n",
       "    </tr>\n",
       "    <tr>\n",
       "      <th>2000-11-14</th>\n",
       "      <td>0.044171</td>\n",
       "      <td>-0.028498</td>\n",
       "      <td>0.025196</td>\n",
       "      <td>0.014706</td>\n",
       "      <td>0.025940</td>\n",
       "      <td>0.001428</td>\n",
       "      <td>0.008368</td>\n",
       "      <td>-0.005020</td>\n",
       "    </tr>\n",
       "    <tr>\n",
       "      <th>2000-11-15</th>\n",
       "      <td>-0.018691</td>\n",
       "      <td>0.003207</td>\n",
       "      <td>-0.004751</td>\n",
       "      <td>0.005822</td>\n",
       "      <td>0.003140</td>\n",
       "      <td>0.001426</td>\n",
       "      <td>-0.008368</td>\n",
       "      <td>-0.002660</td>\n",
       "    </tr>\n",
       "    <tr>\n",
       "      <th>2000-11-16</th>\n",
       "      <td>-0.045024</td>\n",
       "      <td>0.022165</td>\n",
       "      <td>0.002378</td>\n",
       "      <td>0.005789</td>\n",
       "      <td>-0.015798</td>\n",
       "      <td>0.001423</td>\n",
       "      <td>-0.014048</td>\n",
       "      <td>-0.000982</td>\n",
       "    </tr>\n",
       "    <tr>\n",
       "      <th>...</th>\n",
       "      <td>...</td>\n",
       "      <td>...</td>\n",
       "      <td>...</td>\n",
       "      <td>...</td>\n",
       "      <td>...</td>\n",
       "      <td>...</td>\n",
       "      <td>...</td>\n",
       "      <td>...</td>\n",
       "    </tr>\n",
       "    <tr>\n",
       "      <th>2018-12-24</th>\n",
       "      <td>-0.026215</td>\n",
       "      <td>-0.045929</td>\n",
       "      <td>-0.032697</td>\n",
       "      <td>-0.033466</td>\n",
       "      <td>-0.026778</td>\n",
       "      <td>0.001303</td>\n",
       "      <td>-0.001678</td>\n",
       "      <td>0.004812</td>\n",
       "    </tr>\n",
       "    <tr>\n",
       "      <th>2018-12-26</th>\n",
       "      <td>0.068053</td>\n",
       "      <td>0.014721</td>\n",
       "      <td>0.065712</td>\n",
       "      <td>0.039647</td>\n",
       "      <td>0.049290</td>\n",
       "      <td>-0.003914</td>\n",
       "      <td>0.014666</td>\n",
       "      <td>-0.005762</td>\n",
       "    </tr>\n",
       "    <tr>\n",
       "      <th>2018-12-27</th>\n",
       "      <td>-0.006511</td>\n",
       "      <td>0.006722</td>\n",
       "      <td>-0.016371</td>\n",
       "      <td>0.015522</td>\n",
       "      <td>0.007648</td>\n",
       "      <td>-0.002618</td>\n",
       "      <td>-0.000941</td>\n",
       "      <td>0.000870</td>\n",
       "    </tr>\n",
       "    <tr>\n",
       "      <th>2018-12-28</th>\n",
       "      <td>0.000512</td>\n",
       "      <td>-0.000894</td>\n",
       "      <td>0.032479</td>\n",
       "      <td>0.002564</td>\n",
       "      <td>-0.001291</td>\n",
       "      <td>0.003924</td>\n",
       "      <td>-0.007876</td>\n",
       "      <td>0.004340</td>\n",
       "    </tr>\n",
       "    <tr>\n",
       "      <th>2018-12-31</th>\n",
       "      <td>0.009619</td>\n",
       "      <td>0.008014</td>\n",
       "      <td>0.007958</td>\n",
       "      <td>0.015934</td>\n",
       "      <td>0.008721</td>\n",
       "      <td>0.001305</td>\n",
       "      <td>0.006557</td>\n",
       "      <td>0.004322</td>\n",
       "    </tr>\n",
       "  </tbody>\n",
       "</table>\n",
       "<p>4561 rows × 8 columns</p>\n",
       "</div>"
      ],
      "text/plain": [
       "            AAPL-BMK   EXC-BMK    GE-BMK   PFE-BMK   SPY-BMK  FBNDX-BMK  \\\n",
       "Date                                                                      \n",
       "2000-11-10       NaN       NaN       NaN       NaN       NaN        NaN   \n",
       "2000-11-13  0.016259  0.006263 -0.046299 -0.044902 -0.007807   0.001430   \n",
       "2000-11-14  0.044171 -0.028498  0.025196  0.014706  0.025940   0.001428   \n",
       "2000-11-15 -0.018691  0.003207 -0.004751  0.005822  0.003140   0.001426   \n",
       "2000-11-16 -0.045024  0.022165  0.002378  0.005789 -0.015798   0.001423   \n",
       "...              ...       ...       ...       ...       ...        ...   \n",
       "2018-12-24 -0.026215 -0.045929 -0.032697 -0.033466 -0.026778   0.001303   \n",
       "2018-12-26  0.068053  0.014721  0.065712  0.039647  0.049290  -0.003914   \n",
       "2018-12-27 -0.006511  0.006722 -0.016371  0.015522  0.007648  -0.002618   \n",
       "2018-12-28  0.000512 -0.000894  0.032479  0.002564 -0.001291   0.003924   \n",
       "2018-12-31  0.009619  0.008014  0.007958  0.015934  0.008721   0.001305   \n",
       "\n",
       "             XPT-BMK   GBP-BMK  \n",
       "Date                            \n",
       "2000-11-10       NaN       NaN  \n",
       "2000-11-13 -0.009368  0.008731  \n",
       "2000-11-14  0.008368 -0.005020  \n",
       "2000-11-15 -0.008368 -0.002660  \n",
       "2000-11-16 -0.014048 -0.000982  \n",
       "...              ...       ...  \n",
       "2018-12-24 -0.001678  0.004812  \n",
       "2018-12-26  0.014666 -0.005762  \n",
       "2018-12-27 -0.000941  0.000870  \n",
       "2018-12-28 -0.007876  0.004340  \n",
       "2018-12-31  0.006557  0.004322  \n",
       "\n",
       "[4561 rows x 8 columns]"
      ]
     },
     "execution_count": 113,
     "metadata": {},
     "output_type": "execute_result"
    }
   ],
   "source": [
    "portfolio_bmk = pd.concat([df_ma_AAPL.drop(columns=['AAPL-MAFlat','AAPL-MAShort']),\n",
    "                           df_ma_EXC.drop(columns=['EXC-MAFlat','EXC-MAShort']),\n",
    "                           df_ma_GE.drop(columns=['GE-MAFlat','GE-MAShort']),\n",
    "                           df_ma_PFE.drop(columns=['PFE-MAFlat','PFE-MAShort']),\n",
    "                           df_ma_SPY.drop(columns=['SPY-MAFlat','SPY-MAShort']),\n",
    "                           df_ma_FBNDX.drop(columns=['FBNDX-MAFlat','FBNDX-MAShort']),\n",
    "                           df_ma_XPT.drop(columns=['XPT-MAFlat','XPT-MAShort']),\n",
    "                           df_ma_GBP.drop(columns=['GBP-MAFlat','GBP-MAShort'])\n",
    "                          ], axis=1, join='inner')\n",
    "portfolio_bmk"
   ]
  },
  {
   "cell_type": "code",
   "execution_count": 114,
   "id": "eee31698-ed25-4d1e-9791-3feac86634c8",
   "metadata": {
    "tags": []
   },
   "outputs": [
    {
     "name": "stdout",
     "output_type": "stream",
     "text": [
      "Annualized Sharpe Ratio of Equal-Weighted BMK Portfolio: 0.21547002384618022\n"
     ]
    }
   ],
   "source": [
    "# Calculate equal weights\n",
    "num_strategies = 8\n",
    "weights = np.ones(num_strategies) / num_strategies\n",
    "\n",
    "# Calculate portfolio returns\n",
    "portfolio_returns = portfolio_bmk.dot(weights)\n",
    "\n",
    "# Calculate portfolio volatility (standard deviation)\n",
    "portfolio_volatility = portfolio_returns.std()\n",
    "\n",
    "# Calculate annualized Sharpe ratio (assuming 260 trading days in a year)\n",
    "annualized_sharpe_ratio = np.sqrt(260) * (portfolio_returns.mean() / portfolio_volatility)\n",
    "\n",
    "print(\"Annualized Sharpe Ratio of Equal-Weighted BMK Portfolio:\", annualized_sharpe_ratio)\n"
   ]
  },
  {
   "cell_type": "markdown",
   "id": "67463a77-f86d-412e-abab-ef395362d59a",
   "metadata": {},
   "source": [
    "##### 14)B"
   ]
  },
  {
   "cell_type": "code",
   "execution_count": 115,
   "id": "9d5db396-9384-4fed-9b75-42af01e703b2",
   "metadata": {},
   "outputs": [
    {
     "data": {
      "text/html": [
       "<div>\n",
       "<style scoped>\n",
       "    .dataframe tbody tr th:only-of-type {\n",
       "        vertical-align: middle;\n",
       "    }\n",
       "\n",
       "    .dataframe tbody tr th {\n",
       "        vertical-align: top;\n",
       "    }\n",
       "\n",
       "    .dataframe thead th {\n",
       "        text-align: right;\n",
       "    }\n",
       "</style>\n",
       "<table border=\"1\" class=\"dataframe\">\n",
       "  <thead>\n",
       "    <tr style=\"text-align: right;\">\n",
       "      <th></th>\n",
       "      <th>AAPL-MAFlat</th>\n",
       "      <th>EXC-MAFlat</th>\n",
       "      <th>GE-MAFlat</th>\n",
       "      <th>PFE-MAFlat</th>\n",
       "      <th>SPY-MAFlat</th>\n",
       "      <th>FBNDX-MAFlat</th>\n",
       "      <th>XPT-MAFlat</th>\n",
       "      <th>GBP-MAFlat</th>\n",
       "    </tr>\n",
       "    <tr>\n",
       "      <th>Date</th>\n",
       "      <th></th>\n",
       "      <th></th>\n",
       "      <th></th>\n",
       "      <th></th>\n",
       "      <th></th>\n",
       "      <th></th>\n",
       "      <th></th>\n",
       "      <th></th>\n",
       "    </tr>\n",
       "  </thead>\n",
       "  <tbody>\n",
       "    <tr>\n",
       "      <th>2000-11-10</th>\n",
       "      <td>NaN</td>\n",
       "      <td>NaN</td>\n",
       "      <td>NaN</td>\n",
       "      <td>NaN</td>\n",
       "      <td>NaN</td>\n",
       "      <td>NaN</td>\n",
       "      <td>NaN</td>\n",
       "      <td>NaN</td>\n",
       "    </tr>\n",
       "    <tr>\n",
       "      <th>2000-11-13</th>\n",
       "      <td>0.0</td>\n",
       "      <td>0.006263</td>\n",
       "      <td>-0.046299</td>\n",
       "      <td>-0.044902</td>\n",
       "      <td>-0.0</td>\n",
       "      <td>0.001430</td>\n",
       "      <td>-0.009368</td>\n",
       "      <td>0.0</td>\n",
       "    </tr>\n",
       "    <tr>\n",
       "      <th>2000-11-14</th>\n",
       "      <td>0.0</td>\n",
       "      <td>-0.028498</td>\n",
       "      <td>0.025196</td>\n",
       "      <td>0.014706</td>\n",
       "      <td>0.0</td>\n",
       "      <td>0.001428</td>\n",
       "      <td>0.008368</td>\n",
       "      <td>-0.0</td>\n",
       "    </tr>\n",
       "    <tr>\n",
       "      <th>2000-11-15</th>\n",
       "      <td>-0.0</td>\n",
       "      <td>0.003207</td>\n",
       "      <td>-0.004751</td>\n",
       "      <td>0.005822</td>\n",
       "      <td>0.0</td>\n",
       "      <td>0.001426</td>\n",
       "      <td>-0.008368</td>\n",
       "      <td>-0.0</td>\n",
       "    </tr>\n",
       "    <tr>\n",
       "      <th>2000-11-16</th>\n",
       "      <td>-0.0</td>\n",
       "      <td>0.022165</td>\n",
       "      <td>0.002378</td>\n",
       "      <td>0.005789</td>\n",
       "      <td>-0.0</td>\n",
       "      <td>0.001423</td>\n",
       "      <td>-0.014048</td>\n",
       "      <td>-0.0</td>\n",
       "    </tr>\n",
       "    <tr>\n",
       "      <th>...</th>\n",
       "      <td>...</td>\n",
       "      <td>...</td>\n",
       "      <td>...</td>\n",
       "      <td>...</td>\n",
       "      <td>...</td>\n",
       "      <td>...</td>\n",
       "      <td>...</td>\n",
       "      <td>...</td>\n",
       "    </tr>\n",
       "    <tr>\n",
       "      <th>2018-12-24</th>\n",
       "      <td>-0.0</td>\n",
       "      <td>-0.045929</td>\n",
       "      <td>-0.000000</td>\n",
       "      <td>-0.033466</td>\n",
       "      <td>-0.0</td>\n",
       "      <td>0.000000</td>\n",
       "      <td>-0.000000</td>\n",
       "      <td>0.0</td>\n",
       "    </tr>\n",
       "    <tr>\n",
       "      <th>2018-12-26</th>\n",
       "      <td>0.0</td>\n",
       "      <td>0.014721</td>\n",
       "      <td>0.000000</td>\n",
       "      <td>0.039647</td>\n",
       "      <td>0.0</td>\n",
       "      <td>-0.000000</td>\n",
       "      <td>0.000000</td>\n",
       "      <td>-0.0</td>\n",
       "    </tr>\n",
       "    <tr>\n",
       "      <th>2018-12-27</th>\n",
       "      <td>-0.0</td>\n",
       "      <td>0.006722</td>\n",
       "      <td>-0.000000</td>\n",
       "      <td>0.015522</td>\n",
       "      <td>0.0</td>\n",
       "      <td>-0.000000</td>\n",
       "      <td>-0.000000</td>\n",
       "      <td>0.0</td>\n",
       "    </tr>\n",
       "    <tr>\n",
       "      <th>2018-12-28</th>\n",
       "      <td>0.0</td>\n",
       "      <td>-0.000894</td>\n",
       "      <td>0.000000</td>\n",
       "      <td>0.002564</td>\n",
       "      <td>-0.0</td>\n",
       "      <td>0.000000</td>\n",
       "      <td>-0.000000</td>\n",
       "      <td>0.0</td>\n",
       "    </tr>\n",
       "    <tr>\n",
       "      <th>2018-12-31</th>\n",
       "      <td>0.0</td>\n",
       "      <td>0.008014</td>\n",
       "      <td>0.000000</td>\n",
       "      <td>0.015934</td>\n",
       "      <td>0.0</td>\n",
       "      <td>0.000000</td>\n",
       "      <td>0.000000</td>\n",
       "      <td>0.0</td>\n",
       "    </tr>\n",
       "  </tbody>\n",
       "</table>\n",
       "<p>4561 rows × 8 columns</p>\n",
       "</div>"
      ],
      "text/plain": [
       "            AAPL-MAFlat  EXC-MAFlat  GE-MAFlat  PFE-MAFlat  SPY-MAFlat  \\\n",
       "Date                                                                     \n",
       "2000-11-10          NaN         NaN        NaN         NaN         NaN   \n",
       "2000-11-13          0.0    0.006263  -0.046299   -0.044902        -0.0   \n",
       "2000-11-14          0.0   -0.028498   0.025196    0.014706         0.0   \n",
       "2000-11-15         -0.0    0.003207  -0.004751    0.005822         0.0   \n",
       "2000-11-16         -0.0    0.022165   0.002378    0.005789        -0.0   \n",
       "...                 ...         ...        ...         ...         ...   \n",
       "2018-12-24         -0.0   -0.045929  -0.000000   -0.033466        -0.0   \n",
       "2018-12-26          0.0    0.014721   0.000000    0.039647         0.0   \n",
       "2018-12-27         -0.0    0.006722  -0.000000    0.015522         0.0   \n",
       "2018-12-28          0.0   -0.000894   0.000000    0.002564        -0.0   \n",
       "2018-12-31          0.0    0.008014   0.000000    0.015934         0.0   \n",
       "\n",
       "            FBNDX-MAFlat  XPT-MAFlat  GBP-MAFlat  \n",
       "Date                                              \n",
       "2000-11-10           NaN         NaN         NaN  \n",
       "2000-11-13      0.001430   -0.009368         0.0  \n",
       "2000-11-14      0.001428    0.008368        -0.0  \n",
       "2000-11-15      0.001426   -0.008368        -0.0  \n",
       "2000-11-16      0.001423   -0.014048        -0.0  \n",
       "...                  ...         ...         ...  \n",
       "2018-12-24      0.000000   -0.000000         0.0  \n",
       "2018-12-26     -0.000000    0.000000        -0.0  \n",
       "2018-12-27     -0.000000   -0.000000         0.0  \n",
       "2018-12-28      0.000000   -0.000000         0.0  \n",
       "2018-12-31      0.000000    0.000000         0.0  \n",
       "\n",
       "[4561 rows x 8 columns]"
      ]
     },
     "execution_count": 115,
     "metadata": {},
     "output_type": "execute_result"
    }
   ],
   "source": [
    "portfolio_maflat = pd.concat([df_ma_AAPL.drop(columns=['AAPL-BMK','AAPL-MAShort']),\n",
    "                           df_ma_EXC.drop(columns=['EXC-BMK','EXC-MAShort']),\n",
    "                           df_ma_GE.drop(columns=['GE-BMK','GE-MAShort']),\n",
    "                           df_ma_PFE.drop(columns=['PFE-BMK','PFE-MAShort']),\n",
    "                           df_ma_SPY.drop(columns=['SPY-BMK','SPY-MAShort']),\n",
    "                           df_ma_FBNDX.drop(columns=['FBNDX-BMK','FBNDX-MAShort']),\n",
    "                           df_ma_XPT.drop(columns=['XPT-BMK','XPT-MAShort']),\n",
    "                           df_ma_GBP.drop(columns=['GBP-BMK','GBP-MAShort'])\n",
    "                          ], axis=1, join='inner')\n",
    "portfolio_maflat"
   ]
  },
  {
   "cell_type": "code",
   "execution_count": 116,
   "id": "9b98edd3-2001-4168-b9b7-a5bb2d736f73",
   "metadata": {
    "tags": []
   },
   "outputs": [
    {
     "name": "stdout",
     "output_type": "stream",
     "text": [
      "Annualized Sharpe Ratio of Equal-Weighted MA-FLAT Portfolio: 0.6789428363558484\n"
     ]
    }
   ],
   "source": [
    "# Calculate equal weights\n",
    "num_strategies = 8\n",
    "weights = np.ones(num_strategies) / num_strategies\n",
    "\n",
    "# Calculate portfolio returns\n",
    "portfolio_returns = portfolio_maflat.dot(weights)\n",
    "\n",
    "# Calculate portfolio volatility (standard deviation)\n",
    "portfolio_volatility = portfolio_returns.std()\n",
    "\n",
    "# Calculate annualized Sharpe ratio (assuming 260 trading days in a year)\n",
    "annualized_sharpe_ratio = np.sqrt(260) * (portfolio_returns.mean() / portfolio_volatility)\n",
    "\n",
    "print(\"Annualized Sharpe Ratio of Equal-Weighted MA-FLAT Portfolio:\", annualized_sharpe_ratio)\n"
   ]
  },
  {
   "cell_type": "markdown",
   "id": "9aeda620-da9a-4beb-84f2-07a9fe005e7b",
   "metadata": {},
   "source": [
    "##### 14)C"
   ]
  },
  {
   "cell_type": "code",
   "execution_count": 117,
   "id": "68fe9d52-6978-4275-8766-7e00132b4aef",
   "metadata": {},
   "outputs": [
    {
     "data": {
      "text/html": [
       "<div>\n",
       "<style scoped>\n",
       "    .dataframe tbody tr th:only-of-type {\n",
       "        vertical-align: middle;\n",
       "    }\n",
       "\n",
       "    .dataframe tbody tr th {\n",
       "        vertical-align: top;\n",
       "    }\n",
       "\n",
       "    .dataframe thead th {\n",
       "        text-align: right;\n",
       "    }\n",
       "</style>\n",
       "<table border=\"1\" class=\"dataframe\">\n",
       "  <thead>\n",
       "    <tr style=\"text-align: right;\">\n",
       "      <th></th>\n",
       "      <th>AAPL-MAShort</th>\n",
       "      <th>EXC-MAShort</th>\n",
       "      <th>GE-MAShort</th>\n",
       "      <th>PFE-MAShort</th>\n",
       "      <th>SPY-MAShort</th>\n",
       "      <th>FBNDX-MAShort</th>\n",
       "      <th>XPT-MAShort</th>\n",
       "      <th>GBP-MAShort</th>\n",
       "    </tr>\n",
       "    <tr>\n",
       "      <th>Date</th>\n",
       "      <th></th>\n",
       "      <th></th>\n",
       "      <th></th>\n",
       "      <th></th>\n",
       "      <th></th>\n",
       "      <th></th>\n",
       "      <th></th>\n",
       "      <th></th>\n",
       "    </tr>\n",
       "  </thead>\n",
       "  <tbody>\n",
       "    <tr>\n",
       "      <th>2000-11-10</th>\n",
       "      <td>NaN</td>\n",
       "      <td>NaN</td>\n",
       "      <td>NaN</td>\n",
       "      <td>NaN</td>\n",
       "      <td>NaN</td>\n",
       "      <td>NaN</td>\n",
       "      <td>NaN</td>\n",
       "      <td>NaN</td>\n",
       "    </tr>\n",
       "    <tr>\n",
       "      <th>2000-11-13</th>\n",
       "      <td>-0.016259</td>\n",
       "      <td>0.006263</td>\n",
       "      <td>-0.046299</td>\n",
       "      <td>-0.044902</td>\n",
       "      <td>0.007807</td>\n",
       "      <td>0.001430</td>\n",
       "      <td>-0.009368</td>\n",
       "      <td>-0.008731</td>\n",
       "    </tr>\n",
       "    <tr>\n",
       "      <th>2000-11-14</th>\n",
       "      <td>-0.044171</td>\n",
       "      <td>-0.028498</td>\n",
       "      <td>0.025196</td>\n",
       "      <td>0.014706</td>\n",
       "      <td>-0.025940</td>\n",
       "      <td>0.001428</td>\n",
       "      <td>0.008368</td>\n",
       "      <td>0.005020</td>\n",
       "    </tr>\n",
       "    <tr>\n",
       "      <th>2000-11-15</th>\n",
       "      <td>0.018691</td>\n",
       "      <td>0.003207</td>\n",
       "      <td>-0.004751</td>\n",
       "      <td>0.005822</td>\n",
       "      <td>-0.003140</td>\n",
       "      <td>0.001426</td>\n",
       "      <td>-0.008368</td>\n",
       "      <td>0.002660</td>\n",
       "    </tr>\n",
       "    <tr>\n",
       "      <th>2000-11-16</th>\n",
       "      <td>0.045024</td>\n",
       "      <td>0.022165</td>\n",
       "      <td>0.002378</td>\n",
       "      <td>0.005789</td>\n",
       "      <td>0.015798</td>\n",
       "      <td>0.001423</td>\n",
       "      <td>-0.014048</td>\n",
       "      <td>0.000982</td>\n",
       "    </tr>\n",
       "    <tr>\n",
       "      <th>...</th>\n",
       "      <td>...</td>\n",
       "      <td>...</td>\n",
       "      <td>...</td>\n",
       "      <td>...</td>\n",
       "      <td>...</td>\n",
       "      <td>...</td>\n",
       "      <td>...</td>\n",
       "      <td>...</td>\n",
       "    </tr>\n",
       "    <tr>\n",
       "      <th>2018-12-24</th>\n",
       "      <td>0.026215</td>\n",
       "      <td>-0.045929</td>\n",
       "      <td>0.032697</td>\n",
       "      <td>-0.033466</td>\n",
       "      <td>0.026778</td>\n",
       "      <td>-0.001303</td>\n",
       "      <td>0.001678</td>\n",
       "      <td>-0.004812</td>\n",
       "    </tr>\n",
       "    <tr>\n",
       "      <th>2018-12-26</th>\n",
       "      <td>-0.068053</td>\n",
       "      <td>0.014721</td>\n",
       "      <td>-0.065712</td>\n",
       "      <td>0.039647</td>\n",
       "      <td>-0.049290</td>\n",
       "      <td>0.003914</td>\n",
       "      <td>-0.014666</td>\n",
       "      <td>0.005762</td>\n",
       "    </tr>\n",
       "    <tr>\n",
       "      <th>2018-12-27</th>\n",
       "      <td>0.006511</td>\n",
       "      <td>0.006722</td>\n",
       "      <td>0.016371</td>\n",
       "      <td>0.015522</td>\n",
       "      <td>-0.007648</td>\n",
       "      <td>0.002618</td>\n",
       "      <td>0.000941</td>\n",
       "      <td>-0.000870</td>\n",
       "    </tr>\n",
       "    <tr>\n",
       "      <th>2018-12-28</th>\n",
       "      <td>-0.000512</td>\n",
       "      <td>-0.000894</td>\n",
       "      <td>-0.032479</td>\n",
       "      <td>0.002564</td>\n",
       "      <td>0.001291</td>\n",
       "      <td>-0.003924</td>\n",
       "      <td>0.007876</td>\n",
       "      <td>-0.004340</td>\n",
       "    </tr>\n",
       "    <tr>\n",
       "      <th>2018-12-31</th>\n",
       "      <td>-0.009619</td>\n",
       "      <td>0.008014</td>\n",
       "      <td>-0.007958</td>\n",
       "      <td>0.015934</td>\n",
       "      <td>-0.008721</td>\n",
       "      <td>-0.001305</td>\n",
       "      <td>-0.006557</td>\n",
       "      <td>-0.004322</td>\n",
       "    </tr>\n",
       "  </tbody>\n",
       "</table>\n",
       "<p>4561 rows × 8 columns</p>\n",
       "</div>"
      ],
      "text/plain": [
       "            AAPL-MAShort  EXC-MAShort  GE-MAShort  PFE-MAShort  SPY-MAShort  \\\n",
       "Date                                                                          \n",
       "2000-11-10           NaN          NaN         NaN          NaN          NaN   \n",
       "2000-11-13     -0.016259     0.006263   -0.046299    -0.044902     0.007807   \n",
       "2000-11-14     -0.044171    -0.028498    0.025196     0.014706    -0.025940   \n",
       "2000-11-15      0.018691     0.003207   -0.004751     0.005822    -0.003140   \n",
       "2000-11-16      0.045024     0.022165    0.002378     0.005789     0.015798   \n",
       "...                  ...          ...         ...          ...          ...   \n",
       "2018-12-24      0.026215    -0.045929    0.032697    -0.033466     0.026778   \n",
       "2018-12-26     -0.068053     0.014721   -0.065712     0.039647    -0.049290   \n",
       "2018-12-27      0.006511     0.006722    0.016371     0.015522    -0.007648   \n",
       "2018-12-28     -0.000512    -0.000894   -0.032479     0.002564     0.001291   \n",
       "2018-12-31     -0.009619     0.008014   -0.007958     0.015934    -0.008721   \n",
       "\n",
       "            FBNDX-MAShort  XPT-MAShort  GBP-MAShort  \n",
       "Date                                                 \n",
       "2000-11-10            NaN          NaN          NaN  \n",
       "2000-11-13       0.001430    -0.009368    -0.008731  \n",
       "2000-11-14       0.001428     0.008368     0.005020  \n",
       "2000-11-15       0.001426    -0.008368     0.002660  \n",
       "2000-11-16       0.001423    -0.014048     0.000982  \n",
       "...                   ...          ...          ...  \n",
       "2018-12-24      -0.001303     0.001678    -0.004812  \n",
       "2018-12-26       0.003914    -0.014666     0.005762  \n",
       "2018-12-27       0.002618     0.000941    -0.000870  \n",
       "2018-12-28      -0.003924     0.007876    -0.004340  \n",
       "2018-12-31      -0.001305    -0.006557    -0.004322  \n",
       "\n",
       "[4561 rows x 8 columns]"
      ]
     },
     "execution_count": 117,
     "metadata": {},
     "output_type": "execute_result"
    }
   ],
   "source": [
    "portfolio_mashort = pd.concat([df_ma_AAPL.drop(columns=['AAPL-BMK','AAPL-MAFlat']),\n",
    "                           df_ma_EXC.drop(columns=['EXC-BMK','EXC-MAFlat']),\n",
    "                           df_ma_GE.drop(columns=['GE-BMK','GE-MAFlat']),\n",
    "                           df_ma_PFE.drop(columns=['PFE-BMK','PFE-MAFlat']),\n",
    "                           df_ma_SPY.drop(columns=['SPY-BMK','SPY-MAFlat']),\n",
    "                           df_ma_FBNDX.drop(columns=['FBNDX-BMK','FBNDX-MAFlat']),\n",
    "                           df_ma_XPT.drop(columns=['XPT-BMK','XPT-MAFlat']),\n",
    "                           df_ma_GBP.drop(columns=['GBP-BMK','GBP-MAFlat'])\n",
    "                          ], axis=1, join='inner')\n",
    "portfolio_mashort"
   ]
  },
  {
   "cell_type": "code",
   "execution_count": 118,
   "id": "0b2d9cde-b9d9-4bbb-858b-8348e7e90bbe",
   "metadata": {
    "tags": []
   },
   "outputs": [
    {
     "name": "stdout",
     "output_type": "stream",
     "text": [
      "Annualized Sharpe Ratio of Equal-Weighted MA SHORT Portfolio: 0.5914867979124263\n"
     ]
    }
   ],
   "source": [
    "# Calculate equal weights\n",
    "num_strategies = 8\n",
    "weights = np.ones(num_strategies) / num_strategies\n",
    "\n",
    "# Calculate portfolio returns\n",
    "portfolio_returns = portfolio_mashort.dot(weights)\n",
    "\n",
    "# Calculate portfolio volatility (standard deviation)\n",
    "portfolio_volatility = portfolio_returns.std()\n",
    "\n",
    "# Calculate annualized Sharpe ratio (assuming 260 trading days in a year)\n",
    "annualized_sharpe_ratio = np.sqrt(260) * (portfolio_returns.mean() / portfolio_volatility)\n",
    "\n",
    "print(\"Annualized Sharpe Ratio of Equal-Weighted MA SHORT Portfolio:\", annualized_sharpe_ratio)\n"
   ]
  },
  {
   "cell_type": "markdown",
   "id": "6a023bdc-61e1-4421-8741-c77c2d5efa02",
   "metadata": {},
   "source": [
    "##### 14)D"
   ]
  },
  {
   "cell_type": "code",
   "execution_count": 119,
   "id": "bb06c11a-3692-4648-80ca-b9f94c709ab0",
   "metadata": {},
   "outputs": [],
   "source": [
    "df_bb_AAPL = bollingerBands(dfPrices[['AAPL']].copy(), 148, 3)\n",
    "df_bb_EXC = bollingerBands(dfPrices[['EXC']].copy(), 148, 3)\n",
    "df_bb_GE = bollingerBands(dfPrices[['GE']].copy(), 148, 3)\n",
    "df_bb_PFE = bollingerBands(dfPrices[['PFE']].copy(), 148, 3)\n",
    "df_bb_SPY = bollingerBands(dfPrices[['SPY']].copy(), 148, 3)\n",
    "df_bb_FBNDX = bollingerBands(dfPrices[['FBNDX']].copy(), 148, 3)\n",
    "df_bb_XPT = bollingerBands(dfPrices[['XPT']].copy(), 148, 3)\n",
    "df_bb_GBP = bollingerBands(dfPrices[['GBP']].copy(), 148, 3)\n"
   ]
  },
  {
   "cell_type": "code",
   "execution_count": 120,
   "id": "f91cd09b-b69f-41ad-9506-f5faf7263754",
   "metadata": {
    "tags": []
   },
   "outputs": [
    {
     "data": {
      "text/html": [
       "<div>\n",
       "<style scoped>\n",
       "    .dataframe tbody tr th:only-of-type {\n",
       "        vertical-align: middle;\n",
       "    }\n",
       "\n",
       "    .dataframe tbody tr th {\n",
       "        vertical-align: top;\n",
       "    }\n",
       "\n",
       "    .dataframe thead th {\n",
       "        text-align: right;\n",
       "    }\n",
       "</style>\n",
       "<table border=\"1\" class=\"dataframe\">\n",
       "  <thead>\n",
       "    <tr style=\"text-align: right;\">\n",
       "      <th></th>\n",
       "      <th>AAPL-BB</th>\n",
       "      <th>EXC-BB</th>\n",
       "      <th>GE-BB</th>\n",
       "      <th>PFE-BB</th>\n",
       "      <th>SPY-BB</th>\n",
       "      <th>FBNDX-BB</th>\n",
       "      <th>XPT-BB</th>\n",
       "      <th>GBP-BB</th>\n",
       "    </tr>\n",
       "    <tr>\n",
       "      <th>Date</th>\n",
       "      <th></th>\n",
       "      <th></th>\n",
       "      <th></th>\n",
       "      <th></th>\n",
       "      <th></th>\n",
       "      <th></th>\n",
       "      <th></th>\n",
       "      <th></th>\n",
       "    </tr>\n",
       "  </thead>\n",
       "  <tbody>\n",
       "    <tr>\n",
       "      <th>2000-08-01</th>\n",
       "      <td>NaN</td>\n",
       "      <td>NaN</td>\n",
       "      <td>NaN</td>\n",
       "      <td>NaN</td>\n",
       "      <td>NaN</td>\n",
       "      <td>NaN</td>\n",
       "      <td>NaN</td>\n",
       "      <td>NaN</td>\n",
       "    </tr>\n",
       "    <tr>\n",
       "      <th>2000-08-02</th>\n",
       "      <td>-0.0</td>\n",
       "      <td>0.0</td>\n",
       "      <td>-0.000000</td>\n",
       "      <td>0.000000</td>\n",
       "      <td>0.000000</td>\n",
       "      <td>0.0</td>\n",
       "      <td>0.0</td>\n",
       "      <td>0.0</td>\n",
       "    </tr>\n",
       "    <tr>\n",
       "      <th>2000-08-03</th>\n",
       "      <td>0.0</td>\n",
       "      <td>0.0</td>\n",
       "      <td>0.000000</td>\n",
       "      <td>-0.000000</td>\n",
       "      <td>0.000000</td>\n",
       "      <td>0.0</td>\n",
       "      <td>-0.0</td>\n",
       "      <td>0.0</td>\n",
       "    </tr>\n",
       "    <tr>\n",
       "      <th>2000-08-04</th>\n",
       "      <td>-0.0</td>\n",
       "      <td>0.0</td>\n",
       "      <td>0.000000</td>\n",
       "      <td>0.000000</td>\n",
       "      <td>0.000000</td>\n",
       "      <td>0.0</td>\n",
       "      <td>0.0</td>\n",
       "      <td>0.0</td>\n",
       "    </tr>\n",
       "    <tr>\n",
       "      <th>2000-08-07</th>\n",
       "      <td>0.0</td>\n",
       "      <td>0.0</td>\n",
       "      <td>-0.000000</td>\n",
       "      <td>-0.000000</td>\n",
       "      <td>0.000000</td>\n",
       "      <td>-0.0</td>\n",
       "      <td>-0.0</td>\n",
       "      <td>0.0</td>\n",
       "    </tr>\n",
       "    <tr>\n",
       "      <th>...</th>\n",
       "      <td>...</td>\n",
       "      <td>...</td>\n",
       "      <td>...</td>\n",
       "      <td>...</td>\n",
       "      <td>...</td>\n",
       "      <td>...</td>\n",
       "      <td>...</td>\n",
       "      <td>...</td>\n",
       "    </tr>\n",
       "    <tr>\n",
       "      <th>2018-12-24</th>\n",
       "      <td>-0.0</td>\n",
       "      <td>-0.0</td>\n",
       "      <td>-0.032697</td>\n",
       "      <td>0.033466</td>\n",
       "      <td>-0.026778</td>\n",
       "      <td>0.0</td>\n",
       "      <td>-0.0</td>\n",
       "      <td>0.0</td>\n",
       "    </tr>\n",
       "    <tr>\n",
       "      <th>2018-12-26</th>\n",
       "      <td>0.0</td>\n",
       "      <td>0.0</td>\n",
       "      <td>0.065712</td>\n",
       "      <td>0.000000</td>\n",
       "      <td>0.049290</td>\n",
       "      <td>-0.0</td>\n",
       "      <td>0.0</td>\n",
       "      <td>-0.0</td>\n",
       "    </tr>\n",
       "    <tr>\n",
       "      <th>2018-12-27</th>\n",
       "      <td>-0.0</td>\n",
       "      <td>0.0</td>\n",
       "      <td>-0.016371</td>\n",
       "      <td>0.000000</td>\n",
       "      <td>0.007648</td>\n",
       "      <td>-0.0</td>\n",
       "      <td>-0.0</td>\n",
       "      <td>0.0</td>\n",
       "    </tr>\n",
       "    <tr>\n",
       "      <th>2018-12-28</th>\n",
       "      <td>0.0</td>\n",
       "      <td>-0.0</td>\n",
       "      <td>0.032479</td>\n",
       "      <td>0.000000</td>\n",
       "      <td>-0.001291</td>\n",
       "      <td>0.0</td>\n",
       "      <td>-0.0</td>\n",
       "      <td>0.0</td>\n",
       "    </tr>\n",
       "    <tr>\n",
       "      <th>2018-12-31</th>\n",
       "      <td>0.0</td>\n",
       "      <td>0.0</td>\n",
       "      <td>0.007958</td>\n",
       "      <td>0.000000</td>\n",
       "      <td>0.008721</td>\n",
       "      <td>0.0</td>\n",
       "      <td>0.0</td>\n",
       "      <td>0.0</td>\n",
       "    </tr>\n",
       "  </tbody>\n",
       "</table>\n",
       "<p>4633 rows × 8 columns</p>\n",
       "</div>"
      ],
      "text/plain": [
       "            AAPL-BB  EXC-BB     GE-BB    PFE-BB    SPY-BB  FBNDX-BB  XPT-BB  \\\n",
       "Date                                                                          \n",
       "2000-08-01      NaN     NaN       NaN       NaN       NaN       NaN     NaN   \n",
       "2000-08-02     -0.0     0.0 -0.000000  0.000000  0.000000       0.0     0.0   \n",
       "2000-08-03      0.0     0.0  0.000000 -0.000000  0.000000       0.0    -0.0   \n",
       "2000-08-04     -0.0     0.0  0.000000  0.000000  0.000000       0.0     0.0   \n",
       "2000-08-07      0.0     0.0 -0.000000 -0.000000  0.000000      -0.0    -0.0   \n",
       "...             ...     ...       ...       ...       ...       ...     ...   \n",
       "2018-12-24     -0.0    -0.0 -0.032697  0.033466 -0.026778       0.0    -0.0   \n",
       "2018-12-26      0.0     0.0  0.065712  0.000000  0.049290      -0.0     0.0   \n",
       "2018-12-27     -0.0     0.0 -0.016371  0.000000  0.007648      -0.0    -0.0   \n",
       "2018-12-28      0.0    -0.0  0.032479  0.000000 -0.001291       0.0    -0.0   \n",
       "2018-12-31      0.0     0.0  0.007958  0.000000  0.008721       0.0     0.0   \n",
       "\n",
       "            GBP-BB  \n",
       "Date                \n",
       "2000-08-01     NaN  \n",
       "2000-08-02     0.0  \n",
       "2000-08-03     0.0  \n",
       "2000-08-04     0.0  \n",
       "2000-08-07     0.0  \n",
       "...            ...  \n",
       "2018-12-24     0.0  \n",
       "2018-12-26    -0.0  \n",
       "2018-12-27     0.0  \n",
       "2018-12-28     0.0  \n",
       "2018-12-31     0.0  \n",
       "\n",
       "[4633 rows x 8 columns]"
      ]
     },
     "execution_count": 120,
     "metadata": {},
     "output_type": "execute_result"
    }
   ],
   "source": [
    "portfolio_bb = pd.concat([df_bb_AAPL.drop(columns=['AAPL-BMK']),\n",
    "                           df_bb_EXC.drop(columns=['EXC-BMK']),\n",
    "                           df_bb_GE.drop(columns=['GE-BMK']),\n",
    "                           df_bb_PFE.drop(columns=['PFE-BMK']),\n",
    "                           df_bb_SPY.drop(columns=['SPY-BMK']),\n",
    "                           df_bb_FBNDX.drop(columns=['FBNDX-BMK']),\n",
    "                           df_bb_XPT.drop(columns=['XPT-BMK']),\n",
    "                           df_bb_GBP.drop(columns=['GBP-BMK'])\n",
    "                          ], axis=1, join='inner')\n",
    "portfolio_bb"
   ]
  },
  {
   "cell_type": "code",
   "execution_count": 121,
   "id": "e970f3bf-5e92-43bf-af0f-f58edbb94346",
   "metadata": {
    "tags": []
   },
   "outputs": [
    {
     "name": "stdout",
     "output_type": "stream",
     "text": [
      "Annualized Sharpe Ratio of Equal-Weighted BB Portfolio: -0.19934392621954364\n"
     ]
    }
   ],
   "source": [
    "# Calculate equal weights\n",
    "num_strategies = 8\n",
    "weights = np.ones(num_strategies) / num_strategies\n",
    "\n",
    "# Calculate portfolio returns\n",
    "portfolio_returns = portfolio_bb.dot(weights)\n",
    "\n",
    "# Calculate portfolio volatility (standard deviation)\n",
    "portfolio_volatility = portfolio_returns.std()\n",
    "\n",
    "# Calculate annualized Sharpe ratio (assuming 260 trading days in a year)\n",
    "annualized_sharpe_ratio = np.sqrt(260) * (portfolio_returns.mean() / portfolio_volatility)\n",
    "\n",
    "print(\"Annualized Sharpe Ratio of Equal-Weighted BB Portfolio:\", annualized_sharpe_ratio)\n"
   ]
  },
  {
   "cell_type": "markdown",
   "id": "b2795ce9-b336-41ec-a7e5-4a212c38465a",
   "metadata": {},
   "source": [
    "#### Answer:\n",
    "\n",
    "No none of them outperform the Max Sharpe Portfolio"
   ]
  },
  {
   "cell_type": "code",
   "execution_count": null,
   "id": "1088b5fa-16f7-406c-803f-a950c4f9da30",
   "metadata": {},
   "outputs": [],
   "source": []
  },
  {
   "cell_type": "markdown",
   "id": "3c4748c3-79ec-4b90-bb24-2e9cb9b83108",
   "metadata": {},
   "source": [
    "We have used ChatGPT, our previous homework submissions and Professor's Notebooks as references for almost all the questions."
   ]
  },
  {
   "cell_type": "markdown",
   "id": "143d2280-b1a7-4896-a2c3-3c824b4942b8",
   "metadata": {},
   "source": [
    "We pledge on our honor that we have not given nor received any unauthorized assistance on this\n",
    "assignment to/from other groups. Nor have we received any assistance from prior year students.\n",
    "- Meet Doshi, Udit Singh, Nicole Shammay, Sai Charan, Ruoyi Liu"
   ]
  }
 ],
 "metadata": {
  "kernelspec": {
   "display_name": "Python 3 (ipykernel)",
   "language": "python",
   "name": "python3"
  },
  "language_info": {
   "codemirror_mode": {
    "name": "ipython",
    "version": 3
   },
   "file_extension": ".py",
   "mimetype": "text/x-python",
   "name": "python",
   "nbconvert_exporter": "python",
   "pygments_lexer": "ipython3",
   "version": "3.11.5"
  }
 },
 "nbformat": 4,
 "nbformat_minor": 5
}
